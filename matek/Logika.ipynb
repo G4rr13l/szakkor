{
 "cells": [
  {
   "cell_type": "markdown",
   "metadata": {},
   "source": [
    "## Nulladrendű rezolúció"
   ]
  },
  {
   "cell_type": "code",
   "execution_count": 1,
   "metadata": {},
   "outputs": [],
   "source": [
    "class Expr:\n",
    "    def __init__(self,lhs,rhs,op):\n",
    "        self.lhs,self.rhs,self.op = lhs,rhs,op\n",
    "    \n",
    "    def __or__(self,rhs):\n",
    "        if rhs.op == 'and':\n",
    "            return (self | rhs.lhs) & (self | rhs.rhs)\n",
    "        if self.op == 'and':\n",
    "            return (self.lhs | rhs) & (self.rhs | rhs)\n",
    "        else:\n",
    "            return Expr(self,rhs,'or')\n",
    "    \n",
    "    def __and__(self,rhs):\n",
    "        return Expr(self,rhs,'and')\n",
    "    \n",
    "    def __invert__(self):\n",
    "        if self.op == 'not':\n",
    "            return self.lhs\n",
    "        elif self.op == 'and':\n",
    "            return (~self.lhs) | (~self.rhs)\n",
    "        elif self.op == 'or':\n",
    "            return (~self.lhs) & (~self.rhs)\n",
    "        else:\n",
    "            return Expr(self,None,'not')\n",
    "    \n",
    "    def __gt__(self,rhs):\n",
    "        return ~self | rhs\n",
    "    \n",
    "    def __eq__(self,rhs):\n",
    "        return (self > rhs) & (rhs > self)\n",
    "    \n",
    "    def kloz(self,arr):\n",
    "        if self.op == 'or':\n",
    "            self.lhs.kloz(arr)\n",
    "            self.rhs.kloz(arr)\n",
    "        elif self.op == 'and':\n",
    "            self.lhs.kloz(arr)\n",
    "            arr += [set()]\n",
    "            self.rhs.kloz(arr)\n",
    "        elif self.op == 'not':\n",
    "            if self.lhs.lhs in arr[-1]:\n",
    "                arr.pop()\n",
    "            elif '¬' + self.lhs.lhs not in arr[-1]:\n",
    "                arr[-1].update(['¬' + self.lhs.lhs])\n",
    "        else:\n",
    "            if '¬' + self.lhs in arr[-1]:\n",
    "                arr.pop()\n",
    "            elif self.lhs not in arr[-1]:\n",
    "                arr[-1].update([self.lhs])\n",
    "        return arr\n",
    "\n",
    "def valtozok(s):\n",
    "    return [Expr(i,None,'var') for i in s]"
   ]
  },
  {
   "cell_type": "code",
   "execution_count": 2,
   "metadata": {},
   "outputs": [],
   "source": [
    "def egyesit(ek,k):\n",
    "    if ek[0] == '¬':\n",
    "        nek = ek[1:]\n",
    "    else:\n",
    "        nek = '¬' + ek\n",
    "    if nek in k:\n",
    "        k.remove(nek)\n",
    "\n",
    "def rezolucio(klozok):\n",
    "    kc = klozok.copy()\n",
    "    while len(kc)>0:\n",
    "        print(kc)\n",
    "        kc.sort(key=len,reverse=True)\n",
    "        ek = kc.pop()\n",
    "        if len(ek) == 0:\n",
    "            return True\n",
    "        elif len(ek) > 1:\n",
    "            return False\n",
    "        else:\n",
    "            ek = ek.pop()\n",
    "            for k in kc:\n",
    "                egyesit(ek,k)"
   ]
  },
  {
   "cell_type": "markdown",
   "metadata": {},
   "source": [
    "**Példa.** (ezt pár éve ZH példának adtam fel az egyetemen, persze papíron)\n",
    "\n",
    "Charlie Firpo a következőket állítja:\n",
    "\n",
    "- Ha alszom és nem kellő tapintattal ébresztenek fel, elsírom magam: $(A \\wedge \\neg T \\wedge E) \\rightarrow S$\n",
    "- A sírással felizgatom magam, és izgalmamban fel kell kelnem: $(S \\rightarrow I) \\wedge (I \\rightarrow K)$\n",
    "- Ha felkelek, bal lábbal kelek: $K \\rightarrow B$\n",
    "\n",
    "Hozzuk klóz formára az állításokat, majd bizonyítsuk be nulladrendű rezolúcióval, hogy ha Charlie nem bal lábbal ébredt, akkor vagy tapintattal ébresztették, vagy nem aludt:\n",
    "\n",
    "$(\\neg B \\wedge E) \\rightarrow (\\neg A \\vee T)$"
   ]
  },
  {
   "cell_type": "code",
   "execution_count": 3,
   "metadata": {},
   "outputs": [
    {
     "name": "stdout",
     "output_type": "stream",
     "text": [
      "[{'T', 'S', '¬E', '¬A'}, {'I', '¬S'}, {'¬I', 'K'}, {'B', '¬K'}, {'¬B'}, {'E'}, {'A'}, {'¬T'}]\n",
      "[{'S', '¬E', '¬A'}, {'I', '¬S'}, {'¬I', 'K'}, {'B', '¬K'}, {'¬B'}, {'E'}, {'A'}]\n",
      "[{'S', '¬E'}, {'I', '¬S'}, {'¬I', 'K'}, {'B', '¬K'}, {'¬B'}, {'E'}]\n",
      "[{'S'}, {'I', '¬S'}, {'¬I', 'K'}, {'B', '¬K'}, {'¬B'}]\n",
      "[{'I', '¬S'}, {'¬I', 'K'}, {'¬K'}, {'S'}]\n",
      "[{'I'}, {'¬I', 'K'}, {'¬K'}]\n",
      "[{'¬I'}, {'I'}]\n",
      "[set()]\n"
     ]
    },
    {
     "data": {
      "text/plain": [
       "True"
      ]
     },
     "execution_count": 3,
     "metadata": {},
     "output_type": "execute_result"
    }
   ],
   "source": [
    "A,T,E,S,I,K,B = valtozok('ATESIKB')\n",
    "\n",
    "all1 = (A & ~T & E) > S\n",
    "all2 = (S > I) & (I > K)\n",
    "all3 = K > B\n",
    "biz  = (~B & E) > (~A | T)\n",
    "\n",
    "klozok = (all1 & all2 & all3 & ~biz).kloz([set()])\n",
    "rezolucio(klozok)"
   ]
  },
  {
   "cell_type": "code",
   "execution_count": null,
   "metadata": {},
   "outputs": [],
   "source": []
  }
 ],
 "metadata": {
  "kernelspec": {
   "display_name": "Python 3",
   "language": "python",
   "name": "python3"
  },
  "language_info": {
   "codemirror_mode": {
    "name": "ipython",
    "version": 3
   },
   "file_extension": ".py",
   "mimetype": "text/x-python",
   "name": "python",
   "nbconvert_exporter": "python",
   "pygments_lexer": "ipython3",
   "version": "3.7.6"
  }
 },
 "nbformat": 4,
 "nbformat_minor": 2
}
