{
 "cells": [
  {
   "cell_type": "markdown",
   "metadata": {},
   "source": [
    "## Nyeregponti approximáció macerás integrálokra\n",
    "\n",
    "...majd egyszer leírom, addig is ott a jegyzet valakinél..."
   ]
  },
  {
   "cell_type": "code",
   "execution_count": 1,
   "metadata": {},
   "outputs": [
    {
     "name": "stdout",
     "output_type": "stream",
     "text": [
      "Populating the interactive namespace from numpy and matplotlib\n"
     ]
    }
   ],
   "source": [
    "%pylab inline\n",
    "\n",
    "class Expr:\n",
    "    def __init__(self,lhs,rhs,op):\n",
    "        self.lhs,self.rhs,self.op = lhs,rhs,op\n",
    "        \n",
    "    def __add__(self,rhs):\n",
    "        if type(rhs) == Expr:\n",
    "            return Expr(self,rhs,'+')\n",
    "        else:\n",
    "            return Expr(self,rhs,'+n')\n",
    "    \n",
    "    def __radd__(self,lhs):\n",
    "        return Expr(self,lhs,'+n')\n",
    "    \n",
    "    def __sub__(self,rhs):\n",
    "        if type(rhs) == Expr:\n",
    "            return self+rhs*(-1)\n",
    "        else:\n",
    "            return self+(-rhs)\n",
    "        \n",
    "    def __rsub__(self,lhs):\n",
    "        return lhs+self*(-1)\n",
    "    \n",
    "    def __neg__(self):\n",
    "        return (-1)*self\n",
    "    \n",
    "    def __mul__(self,rhs):\n",
    "        if type(rhs) == Expr:\n",
    "            return Expr(self,rhs,'*')\n",
    "        else:\n",
    "            return Expr(self,rhs,'*n')\n",
    "    \n",
    "    def __rmul__(self,lhs):\n",
    "        return Expr(self,lhs,'*n')\n",
    "    \n",
    "    def __truediv__(self,rhs):\n",
    "        if type(rhs) == Expr:\n",
    "            return self*rhs**(-1)\n",
    "        else:\n",
    "            return self*(1/rhs)\n",
    "        \n",
    "    def __rtruediv__(self,lhs):\n",
    "        return self**(-1)*lhs\n",
    "    \n",
    "    def __pow__(self,rhs):\n",
    "        if type(rhs) == Expr:\n",
    "            return Expr(self,rhs,'**')\n",
    "        else:\n",
    "            return Expr(self,rhs,'**n')\n",
    "        \n",
    "    def __rpow__(self,lhs):\n",
    "        return Expr(lhs,self,'n**')\n",
    "    \n",
    "    def __call__(self,x0):\n",
    "        if self.op == '+':\n",
    "            return self.lhs(x0) + self.rhs(x0)\n",
    "        elif self.op == '+n':\n",
    "            return self.lhs(x0) + self.rhs\n",
    "        elif self.op == '*':\n",
    "            return self.lhs(x0) * self.rhs(x0)\n",
    "        elif self.op == '*n':\n",
    "            return self.lhs(x0) * self.rhs\n",
    "        elif self.op == '**':\n",
    "            return self.lhs(x0)**self.rhs(x0)\n",
    "        elif self.op == '**n':\n",
    "            return self.lhs(x0)**self.rhs\n",
    "        elif self.op == 'n**':\n",
    "            return self.lhs**self.rhs(x0)\n",
    "        elif self.op == 'sin':\n",
    "            return sin(self.lhs(x0))\n",
    "        elif self.op == 'cos':\n",
    "            return cos(self.lhs(x0))\n",
    "        elif self.op == 'log':\n",
    "            return log(self.lhs(x0))\n",
    "        elif self.op == 'exp':\n",
    "            return exp(self.lhs(x0))\n",
    "        elif self.op == 'id':\n",
    "            return x0\n",
    "        elif self.op == 'const':\n",
    "            return self.lhs\n",
    "        else:\n",
    "            raise NotImplementedError\n",
    "        \n",
    "    def diff(self):\n",
    "        if self.op == '+':\n",
    "            return self.lhs.diff() + self.rhs.diff()\n",
    "        elif self.op == '+n':\n",
    "            return self.lhs.diff()\n",
    "        elif self.op == '*':\n",
    "            return self.lhs.diff()*self.rhs + self.lhs*self.rhs.diff()\n",
    "        elif self.op == '*n':\n",
    "            return self.lhs.diff()*self.rhs\n",
    "        elif self.op == '**':\n",
    "            return self.lhs**self.rhs * (self.rhs.diff()*Log(self.lhs) + self.rhs*self.lhs.diff()/self.lhs)\n",
    "        elif self.op == '**n':\n",
    "            return self.rhs*self.lhs**(self.rhs-1)*self.lhs.diff()\n",
    "        elif self.op == 'n**':\n",
    "            return self.lhs**self.rhs*log(self.lhs)*self.rhs.diff()\n",
    "        elif self.op == 'sin':\n",
    "            return Cos(self.lhs)*self.lhs.diff()\n",
    "        elif self.op == 'cos':\n",
    "            return -Sin(self.lhs)*self.lhs.diff()\n",
    "        elif self.op == 'log':\n",
    "            return self.lhs.diff()/self.lhs\n",
    "        elif self.op == 'exp':\n",
    "            return Exp(self.lhs)*self.lhs.diff()\n",
    "        elif self.op == 'id':\n",
    "            return Expr(1,None,'const')\n",
    "        elif self.op == 'const':\n",
    "            return Expr(0,None,'const')\n",
    "        else:\n",
    "            raise NotImplementedError\n",
    "    \n",
    "def Sin(x):\n",
    "    return Expr(x,None,'sin')\n",
    "def Cos(x):\n",
    "    return Expr(x,None,'cos')\n",
    "def Log(x):\n",
    "    return Expr(x,None,'log')\n",
    "def Exp(x):\n",
    "    return Expr(x,None,'exp')\n",
    "def Sqrt(x):\n",
    "    return x**0.5\n",
    "x = Expr(None,None,'id')"
   ]
  },
  {
   "cell_type": "code",
   "execution_count": 2,
   "metadata": {},
   "outputs": [],
   "source": [
    "def NewtonRaphson(f,x0,max_iters=100):\n",
    "    df = f.diff()\n",
    "    it = 0\n",
    "    while abs(f(x0))>1e-6 and it<max_iters:\n",
    "        x0 -= f(x0)/df(x0)\n",
    "        it += 1\n",
    "    return x0"
   ]
  },
  {
   "cell_type": "code",
   "execution_count": 3,
   "metadata": {},
   "outputs": [],
   "source": [
    "# Laplace-approximáció\n",
    "def Laplace(f,x0=1,max_iters=100):\n",
    "    lf   = Log(f)\n",
    "    dlf  = lf.diff()\n",
    "    ddlf = dlf.diff()\n",
    "    it   = 0\n",
    "    while abs(dlf(x0))>1e-6 and it<max_iters:\n",
    "        x0 -= dlf(x0)/ddlf(x0)\n",
    "        it += 1\n",
    "    f0 = f(x0)\n",
    "    s0 = ddlf(x0)\n",
    "    return f(x0)*Exp(s0*(x-x0)**2/2)"
   ]
  },
  {
   "cell_type": "code",
   "execution_count": 4,
   "metadata": {},
   "outputs": [],
   "source": [
    "# Integrál közelítése a fentiből (Gauss)\n",
    "def saddle(f,x0=1,max_iters=100):\n",
    "    lf   = Log(f)\n",
    "    dlf  = lf.diff()\n",
    "    ddlf = dlf.diff()\n",
    "    it   = 0\n",
    "    while abs(dlf(x0))>1e-6 and it<max_iters:\n",
    "        x0 -= dlf(x0)/ddlf(x0)\n",
    "        it += 1\n",
    "    f0 = f(x0)\n",
    "    s0 = ddlf(x0)\n",
    "    return f0*sqrt(-2*pi/s0)"
   ]
  },
  {
   "cell_type": "code",
   "execution_count": 5,
   "metadata": {},
   "outputs": [
    {
     "data": {
      "image/png": "[encoded data removed]",
      "text/plain": [
       "<Figure size 432x288 with 1 Axes>"
      ]
     },
     "metadata": {
      "needs_background": "light"
     },
     "output_type": "display_data"
    }
   ],
   "source": [
    "# Laplace-approximáció egy egyszerű függvényre\n",
    "a,b = 2,3\n",
    "f = x**a * (1-x)**b\n",
    "g = Laplace(f,0.5)\n",
    "\n",
    "t = np.linspace(1e-6,1-1e-6,100)\n",
    "plot(t,f(t))\n",
    "plot(t,g(t));"
   ]
  },
  {
   "cell_type": "code",
   "execution_count": 6,
   "metadata": {},
   "outputs": [
    {
     "data": {
      "image/png": "[encoded data removed]",
      "text/plain": [
       "<Figure size 432x288 with 1 Axes>"
      ]
     },
     "metadata": {
      "needs_background": "light"
     },
     "output_type": "display_data"
    }
   ],
   "source": [
    "# Nyeregponti approximáció a Gamma-függvényre (Stirling-formula)\n",
    "def Gamma(n):\n",
    "    return x**n*Exp(-x)\n",
    "f = log(cumprod(arange(1,20)))\n",
    "g = [log(saddle(Gamma(n-1))) for n in range(2,21)]\n",
    "t = np.arange(1,20)\n",
    "scatter(t,f)\n",
    "scatter(t,g);"
   ]
  },
  {
   "cell_type": "code",
   "execution_count": 7,
   "metadata": {},
   "outputs": [],
   "source": [
    "# Log-gamma függvény közelítése\n",
    "def lgm(n):\n",
    "    lf   = (n-1)*Log(x)-x\n",
    "    dlf  = lf.diff()\n",
    "    ddlf = dlf.diff()\n",
    "    x0   = n\n",
    "    l2p2 = log(2*pi)/2\n",
    "    while abs(dlf(x0))>1e-12:\n",
    "        x0 -= dlf(x0)/ddlf(x0)\n",
    "    return lf(x0) + l2p2 - log(-ddlf(x0))/2"
   ]
  },
  {
   "cell_type": "code",
   "execution_count": 8,
   "metadata": {},
   "outputs": [
    {
     "data": {
      "text/plain": [
       "array([[ 0.65180648,  0.69314718],\n",
       "       [ 1.76408154,  1.79175947],\n",
       "       [ 3.15726316,  3.17805383],\n",
       "       [ 4.77084705,  4.78749174],\n",
       "       [ 6.56537508,  6.57925121],\n",
       "       [ 8.51326465,  8.52516136],\n",
       "       [10.59419164, 10.6046029 ],\n",
       "       [12.79257202, 12.80182748]])"
      ]
     },
     "execution_count": 8,
     "metadata": {},
     "output_type": "execute_result"
    },
    {
     "data": {
      "image/png": "[encoded data removed]",
      "text/plain": [
       "<Figure size 432x288 with 1 Axes>"
      ]
     },
     "metadata": {
      "needs_background": "light"
     },
     "output_type": "display_data"
    }
   ],
   "source": [
    "from scipy.special import loggamma\n",
    "t   = np.linspace(3,10,8)\n",
    "lg1 = [lgm(n) for n in t]\n",
    "lg2 = [loggamma(n) for n in t]\n",
    "plot(t,lg1)\n",
    "plot(t,lg2);\n",
    "\n",
    "array([lg1,lg2]).T"
   ]
  },
  {
   "cell_type": "code",
   "execution_count": 9,
   "metadata": {},
   "outputs": [
    {
     "data": {
      "text/plain": [
       "[1.919004351488983,\n",
       " 5.8362095913458605,\n",
       " 23.50617513289329,\n",
       " 118.01916795758994,\n",
       " 710.078184641933,\n",
       " 4980.395831612309,\n",
       " 39902.395452656456,\n",
       " 359536.87284194736]"
      ]
     },
     "execution_count": 9,
     "metadata": {},
     "output_type": "execute_result"
    }
   ],
   "source": [
    "# Gamma-függvény (vs. faktoriális)\n",
    "[exp(lgm(n)) for n in t]"
   ]
  },
  {
   "cell_type": "code",
   "execution_count": null,
   "metadata": {},
   "outputs": [],
   "source": []
  }
 ],
 "metadata": {
  "kernelspec": {
   "display_name": "Python 3",
   "language": "python",
   "name": "python3"
  },
  "language_info": {
   "codemirror_mode": {
    "name": "ipython",
    "version": 3
   },
   "file_extension": ".py",
   "mimetype": "text/x-python",
   "name": "python",
   "nbconvert_exporter": "python",
   "pygments_lexer": "ipython3",
   "version": "3.7.6"
  }
 },
 "nbformat": 4,
 "nbformat_minor": 2
}
