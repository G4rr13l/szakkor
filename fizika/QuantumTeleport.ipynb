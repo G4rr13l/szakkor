{
 "cells": [
  {
   "cell_type": "code",
   "execution_count": 1,
   "metadata": {},
   "outputs": [
    {
     "name": "stdout",
     "output_type": "stream",
     "text": [
      "Populating the interactive namespace from numpy and matplotlib\n"
     ]
    }
   ],
   "source": [
    "%pylab inline"
   ]
  },
  {
   "cell_type": "markdown",
   "metadata": {},
   "source": [
    "<img src=\"qteleport.svg\">"
   ]
  },
  {
   "cell_type": "code",
   "execution_count": 2,
   "metadata": {},
   "outputs": [],
   "source": [
    "Zero = np.array([[1],\n",
    "                 [0]])\n",
    "One  = np.array([[0],\n",
    "                 [1]])\n",
    "\n",
    "M0   = np.array([[1,0],\n",
    "                 [0,0]])\n",
    "M1   = np.array([[0,0],\n",
    "                 [0,1]])\n",
    "H    = np.array([[1,1],\n",
    "                 [1,-1]])/np.sqrt(2)\n",
    "CNOT = np.array([[1,0,0,0],\n",
    "                 [0,1,0,0],\n",
    "                 [0,0,0,1],\n",
    "                 [0,0,1,0]])\n",
    "CNOT2 = np.array([[1,0,0,0],\n",
    "                  [0,0,0,1],\n",
    "                  [0,0,1,0],\n",
    "                  [0,1,0,0]])\n",
    "X = np.array([[0,1],\n",
    "              [1,0]])\n",
    "Z = np.array([[1,0],\n",
    "              [0,-1]])\n",
    "I = np.eye(2)"
   ]
  },
  {
   "cell_type": "code",
   "execution_count": 3,
   "metadata": {},
   "outputs": [],
   "source": [
    "def tp(*args):\n",
    "    res = np.array([[1.]])\n",
    "    for a in args:\n",
    "        res = np.kron(res,a)\n",
    "    return res"
   ]
  },
  {
   "cell_type": "code",
   "execution_count": 4,
   "metadata": {},
   "outputs": [],
   "source": [
    "def n(s):\n",
    "    return s/np.linalg.norm(s)"
   ]
  },
  {
   "cell_type": "code",
   "execution_count": 5,
   "metadata": {},
   "outputs": [],
   "source": [
    "def meres(st,i):\n",
    "    mmt0 = [[1.]]\n",
    "    mmt1 = [[1.]]\n",
    "    for x in range(np.int(np.log2(len(st)))):\n",
    "        Op0 = I if x!=i else M0\n",
    "        Op1 = I if x!=i else M1\n",
    "        mmt0 = np.kron(mmt0,Op0)\n",
    "        mmt1 = np.kron(mmt1,Op1)\n",
    "        \n",
    "    if np.random.ranf() <= np.sum(mmt0 * np.dot(st,st.T)):\n",
    "        return 0,n(np.dot(mmt0,st))\n",
    "    else:\n",
    "        return 1,n(np.dot(mmt1,st))"
   ]
  },
  {
   "cell_type": "code",
   "execution_count": 6,
   "metadata": {},
   "outputs": [
    {
     "name": "stdout",
     "output_type": "stream",
     "text": [
      "[493, 507]\n"
     ]
    }
   ],
   "source": [
    "naiv = [0,0]\n",
    "for i in range(1000):\n",
    "    st = tp(Zero,Zero)\n",
    "    st = np.dot(tp(H,I),st)\n",
    "    st = np.dot(CNOT,st)\n",
    "    \n",
    "    res1,st = meres(st,0)\n",
    "    res2,st = meres(st,1)\n",
    "    \n",
    "    naiv[res2] += 1\n",
    "\n",
    "# Nincs fénynél gyorsabb kommunikáció!\n",
    "print(naiv)"
   ]
  },
  {
   "cell_type": "code",
   "execution_count": 7,
   "metadata": {},
   "outputs": [
    {
     "name": "stdout",
     "output_type": "stream",
     "text": [
      "[1000, 0]\n"
     ]
    }
   ],
   "source": [
    "teleport = [0,0]\n",
    "for i in range(1000):\n",
    "    st = tp(Zero,Zero,Zero)\n",
    "    st = tp(I,H,I)@st\n",
    "    st = np.dot(tp(I,CNOT),st)\n",
    "    st = np.dot(tp(CNOT,I),st)\n",
    "    st = np.dot(tp(H,I,I),st)\n",
    "    res1, st = meres(st,0)\n",
    "    res2, st = meres(st,1)\n",
    "    \n",
    "    if res2==1:\n",
    "        st = np.dot(tp(I,I,X),st)\n",
    "    if res1==1:\n",
    "        st = np.dot(tp(I,I,Z),st)\n",
    "        \n",
    "    res3, st = meres(st,2)\n",
    "    teleport[res3]+=1\n",
    "    \n",
    "# Átvittük a bitet:\n",
    "print(teleport)"
   ]
  },
  {
   "cell_type": "markdown",
   "metadata": {},
   "source": [
    "## Egyéb játékok"
   ]
  },
  {
   "cell_type": "code",
   "execution_count": 8,
   "metadata": {},
   "outputs": [],
   "source": [
    "α = 1/np.sqrt(5)\n",
    "β = 2/np.sqrt(5)\n",
    "ψ = α*Zero + β*One"
   ]
  },
  {
   "cell_type": "code",
   "execution_count": 9,
   "metadata": {},
   "outputs": [
    {
     "data": {
      "text/plain": [
       "array([[0.4472136 ],\n",
       "       [0.        ],\n",
       "       [0.89442719],\n",
       "       [0.        ]])"
      ]
     },
     "execution_count": 9,
     "metadata": {},
     "output_type": "execute_result"
    }
   ],
   "source": [
    "np.kron(ψ,Zero)"
   ]
  },
  {
   "cell_type": "code",
   "execution_count": 10,
   "metadata": {},
   "outputs": [
    {
     "data": {
      "text/plain": [
       "array([[0.4472136 ],\n",
       "       [0.89442719],\n",
       "       [0.        ],\n",
       "       [0.        ]])"
      ]
     },
     "execution_count": 10,
     "metadata": {},
     "output_type": "execute_result"
    }
   ],
   "source": [
    "np.kron(Zero,ψ)"
   ]
  },
  {
   "cell_type": "code",
   "execution_count": 11,
   "metadata": {},
   "outputs": [
    {
     "data": {
      "text/plain": [
       "array([[0.4472136 ],\n",
       "       [0.89442719],\n",
       "       [0.        ],\n",
       "       [0.        ]])"
      ]
     },
     "execution_count": 11,
     "metadata": {},
     "output_type": "execute_result"
    }
   ],
   "source": [
    "# Kvantum swap\n",
    "CNOT@CNOT2@CNOT@np.kron(ψ,Zero)"
   ]
  },
  {
   "cell_type": "code",
   "execution_count": null,
   "metadata": {},
   "outputs": [],
   "source": []
  }
 ],
 "metadata": {
  "kernelspec": {
   "display_name": "Python 3",
   "language": "python",
   "name": "python3"
  },
  "language_info": {
   "codemirror_mode": {
    "name": "ipython",
    "version": 3
   },
   "file_extension": ".py",
   "mimetype": "text/x-python",
   "name": "python",
   "nbconvert_exporter": "python",
   "pygments_lexer": "ipython3",
   "version": "3.7.6"
  }
 },
 "nbformat": 4,
 "nbformat_minor": 2
}
