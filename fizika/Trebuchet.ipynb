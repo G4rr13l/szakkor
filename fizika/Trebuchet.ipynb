{
 "cells": [
  {
   "cell_type": "markdown",
   "metadata": {
    "colab_type": "text",
    "id": "j9xhLGkIAayf"
   },
   "source": [
    "## Trebuchet\n",
    "\n",
    "*A fegyver fődarabja egy hosszú gerenda volt, amelynek az egyik végére hatalmas parittyát, a másikra óriási ellensúlyt erősítettek. A Trebuchet többféle méretben készült, és képes volt 40-150 kilogramm közötti lövedékek hajítására. A terhelhetőség a sudár hosszától és az ellensúly tömegétől függött.*\n",
    "\n",
    "## Első szakasz\n",
    "\n",
    "Először a lövedék elhajítására vonatkozó mozgásegyenleteket vizsgáljuk meg.\n",
    "\n",
    "### Koordináta-rendszer\n",
    "\n",
    "Jelölje $m$ a lövedék, $M$ pedig az ellensúly tömegét. Legyen az origó a rúd alátámasztási pontja a föld fölött $h_0$ méterrel, jelölje $r$ a rúd lövedék felőli, $R$ pedig az ellensúly felőli hosszát, valamint legyen $l$ a parittya megfeszített kötelének hossza, $L$ pedig az ellensúly kötelének hossza. Legyen $(x,y)$ a lövedék, $(X,Y)$ pedig az ellensúly koordinátái. A rúd függőlegessel bezárt szöge legyen $\\theta$, a parittya kötelének függőlegessel bezárt szöge $\\phi$, az ellensúly kötelének függőlegessel bezárt szöge pedig $\\beta$.\n",
    "\n",
    "![](https://drive.google.com/uc?export=view&id=1WazlQnR1s-o6CHl5H4WCHiVIZsNsatSv)\n",
    "\n",
    "### Pozíciók és sebességek\n",
    "\n",
    "A hajítási szakasz során a lövedék koordinátái könnyen leolvashatók az ábráról:\n",
    "\\begin{align}\n",
    "x &= -\\left(r \\sin \\theta + l \\sin \\phi \\right),\\\\\n",
    "y &= -\\left(r \\cos \\theta + l \\cos \\phi \\right),\\\\\n",
    "X &= R \\sin \\theta + L \\sin \\beta, \\\\\n",
    "Y &= R \\cos \\theta - L \\cos \\beta.\n",
    "\\end{align}\n",
    "A sebességek az előbbiek idő szerinti deriváltjaként adódnak:\n",
    "\\begin{align}\n",
    "\\dot x &= -\\left(r \\cos \\theta \\dot\\theta + l \\cos \\phi \\dot \\phi \\right),\\\\\n",
    "\\dot y &= r \\sin \\theta \\dot\\theta + l \\sin \\phi \\dot\\phi,\\\\\n",
    "\\dot X &= R \\cos \\theta \\dot\\theta + L \\cos \\beta \\dot\\beta, \\\\\n",
    "\\dot Y &= - R \\sin \\theta \\dot\\theta + L \\sin \\beta \\dot\\beta.\n",
    "\\end{align}\n",
    "\n",
    "### Tehetetlenségi nyomaték\n",
    "\n",
    "Legyen a rúd tömege $w$. A rúd hossza $\\ell = r+R$, a tengely a rúd tömegközéppontjától $d = (R-r)/2$ távolságra van. Ekkor a tehetetlenségi nyomaték\n",
    "\\begin{align}\n",
    "I = \\int_{-\\ell/2}^{\\ell/2} \\frac{w}{\\ell} (\\rho-d)^2 d\\rho = \\frac{w}{\\ell} \\left[ \\frac{\\rho^3}{3} - \\rho^2 d +\\rho d^2 \\right]_{-\\ell/2}^{\\ell/2} = \\frac{1}{12} w \\ell^2 - 0 + \\frac{w}{\\ell} d^2 \\ell = \\frac{1}{12} w \\ell^2 + w d^2.\n",
    "\\end{align}\n",
    "\n",
    "### A Lagrange-függvény kiszámítása\n",
    "\n",
    "Kiszámítjuk a mozgási és a helyzeti energiát\n",
    "\\begin{align}\n",
    "\\mathcal L &= T-V, \\\\\n",
    "T &= \\frac{1}{2} m\\left( \\dot x + \\dot y \\right)^2 + \\frac{1}{2} M\\left( \\dot X + \\dot Y \\right)^2 + \\frac{1}{2} I\\dot\\theta^2, \\\\\n",
    "V &= mgy + MgY + wgd\\cos\\theta.\n",
    "\\end{align}\n",
    "\n",
    "Kifejtve\n",
    "\\begin{align}\n",
    "\\mathcal{L}(\\theta,\\phi,\\beta,\\dot\\theta,\\dot\\phi,\\dot\\beta) &= \\frac{1}{2} m \\left( r^2 \\dot\\theta^2 + 2rl\\cos(\\theta-\\phi) \\dot\\theta \\dot\\phi + l^2 \\dot\\phi^2 \\right) + \\frac{1}{2} M \\left( R^2 \\dot\\theta^2 + 2RL\\cos(\\theta+\\beta) \\dot\\theta \\dot\\beta + L^2 \\dot\\beta^2 \\right) + \\frac{1}{2} I\\dot\\theta^2 - V\\left(\\theta,\\phi,\\beta \\right),\n",
    "\\end{align}\n",
    "\n",
    "amit a tömegmátrix definiálásával egyszerűbb alakra hozhatunk:\n",
    "\\begin{align}\n",
    "\\mathcal{L}(\\mathbf{q},\\mathbf{\\dot q}) &= \\frac{1}{2} \\mathbf{\\dot q}^T \\mathbf{M}(\\mathbf{q}) \\mathbf{\\dot q} - V(\\mathbf{q}),\n",
    "\\end{align}\n",
    "ahol\n",
    "\\begin{align}\n",
    "\\mathbf{q} = \\begin{bmatrix} \\theta \\\\ \\phi \\\\ \\beta \\end{bmatrix}, \\qquad\n",
    "\\mathbf{M}(\\mathbf{q}) = \n",
    "\\begin{bmatrix}\n",
    "mr^2 + MR^2 + I & mrl\\cos(\\theta-\\phi) & MRL\\cos(\\theta+\\beta) \\\\\n",
    "mrl\\cos(\\theta-\\phi) & ml^2 & 0 \\\\\n",
    "MRL\\cos(\\theta+\\beta) & 0 & ML^2\n",
    "\\end{bmatrix} .\n",
    "\\end{align}\n",
    "\n",
    "### Hamilton-mechanika\n",
    "\n",
    "Kanonikus momentum:\n",
    "\\begin{align}\n",
    "\\mathbf{p} = \\nabla_\\mathbf{\\dot q} \\mathcal{L} = \\mathbf{M}(\\mathbf{q}) \\mathbf{\\dot q} \\quad\\Rightarrow\\quad \\mathbf{\\dot q} = \\mathbf{M}(\\mathbf{q})^{-1} \\mathbf{p} \\quad\\Rightarrow\\quad \\mathcal{L}(\\mathbf{q},\\mathbf{\\dot q}) = \\frac{1}{2} \\mathbf{p}^T \\mathbf{M}(\\mathbf{q})^{-1} \\mathbf{p} - V(\\mathbf{q})\n",
    "\\end{align}\n",
    "Hamilton-függvény:\n",
    "\\begin{align}\n",
    "H(\\mathbf{p},\\mathbf{q}) = \\mathbf{p}^T \\mathbf{\\dot q} - \\mathcal{L}\\left(\\mathbf{q},\\mathbf{\\dot q}\\right) = \\frac{1}{2} \\mathbf{p}^T \\mathbf{M}(\\mathbf{q})^{-1} \\mathbf{p} + V(\\mathbf{q}) .\n",
    "\\end{align}\n",
    "\n",
    "### Numerikus integrálás\n",
    "\n",
    "A Hamilton-egyenleteket felhasználva\n",
    "\\begin{align}\n",
    "\\mathbf{u} := \\begin{bmatrix} \\mathbf{p} \\\\ \\mathbf{q} \\end{bmatrix},\\quad f(\\mathbf{u}) := \\begin{bmatrix} \\mathbf{\\dot p} \\\\ \\mathbf{\\dot q} \\end{bmatrix} = \\begin{bmatrix} -\\nabla_\\mathbf{q} H \\\\ \\nabla_\\mathbf{p} H \\end{bmatrix} ,\n",
    "\\end{align}\n",
    "így a numerikus integrálás történhet például a trapezoid módszerrel:\n",
    "\\begin{align}\n",
    "\\mathbf{u}_{n+1} = \\mathbf{u}_n + \\Delta t \\cdot f\\left(\\frac{\\mathbf{u}_{n+1}+\\mathbf{u}_{n}}{2}  \\right).\n",
    "\\end{align}\n",
    "Mivel $\\mathbf{u}_{n+1}$ az egyenlet mindkét oldalán előfordul (implicit), minden lépésben egy nemlineáris rendszert kell megoldanunk, amihez például a Newton-módszer variánsait használhatjuk."
   ]
  },
  {
   "cell_type": "markdown",
   "metadata": {
    "colab_type": "text",
    "id": "wH8wFZMUAcxe"
   },
   "source": [
    "## Második szakasz\n",
    "\n",
    "### Euler-Lagrange egyenletek\n",
    "\n",
    "Itt a már elhajított lövedékre vonatkozó mozgásegyenleteket vizsgáljuk. A mozgási energia\n",
    "\\begin{align}\n",
    "T = \\frac{1}{2} m \\left( \\dot x^2 + \\dot y^2\\right),\n",
    "\\end{align}\n",
    "míg a helyzeti energia\n",
    "\\begin{align}\n",
    "V = mgy .\n",
    "\\end{align}\n",
    "\n",
    "Most a Lagrange függvény és a deriváltak:\n",
    "\\begin{align}\n",
    "\\mathcal L &= \\frac{1}{2} m \\left( \\dot x^2 + \\dot y^2\\right) - mgy, \\\\\n",
    "\\frac{\\partial \\mathcal{L}}{\\partial x} &= 0, \\\\\n",
    "\\frac{d}{dt} \\frac{\\partial \\mathcal{L}}{\\partial \\dot x} &= \\frac{d}{dt} \\left( m\\dot x\\right) = m\\ddot x,\\\\\n",
    "\\frac{\\partial \\mathcal{L}}{\\partial y} &= -mg, \\\\\n",
    "\\frac{d}{dt} \\frac{\\partial \\mathcal{L}}{\\partial \\dot y} &= \\frac{d}{dt} \\left( m\\dot y\\right) = m \\ddot y .\n",
    "\\end{align}\n",
    "\n",
    "Innen az Euler-Lagrange egyenlet felhasználásával a mozgásegyenletek:\n",
    "\\begin{align}\n",
    "\\ddot x &= 0,\\\\\n",
    "\\ddot y &= -g.\n",
    "\\end{align}\n",
    "\n",
    "### Numerikus integrálás\n",
    "\n",
    "Másodrendű közelítést használva (pl. velocity Verlet):\n",
    "\\begin{align}\n",
    "x &\\gets x + \\dot x \\cdot \\Delta t + \\frac{1}{2} \\ddot x \\cdot \\Delta t^2, \\\\\n",
    "\\ddot x_p&\\gets \\ddot x,\\\\\n",
    "\\ddot x &\\gets \\left[\\text{Euler-Lagrange} \\right], \\\\\n",
    "\\dot x &\\gets \\dot x + \\frac{1}{2} \\left(\\ddot x + \\ddot x_p \\right) \\cdot \\Delta t ,\n",
    "\\end{align}\n",
    "$y$-ra hasonlóképpen. Megjegyzendő, hogy konstants gyorsulás esetén ez a séma tovább egyszerűsödik."
   ]
  },
  {
   "cell_type": "markdown",
   "metadata": {
    "colab_type": "text",
    "id": "kHFMDYS-AgW2"
   },
   "source": [
    "## Paraméterek illesztése automatikus differenciálással ($\\partial P$)\n",
    "\n",
    "Az automatikus differenciálás lehetővé teszi gradiensek visszaterjesztését a numerikus integrátoron keresztül. Ennek során a láncszabályt alkalmazzuk, azaz ha a szimuláció végeredményére valamilyen hibafüggvényt teszünk (pl. becsapódás négyzetes távolsága a célponttól), ennek bemeneteti paraméterek szerinti deriváltjait is megkaphatjuk, ha az összes köztes művelet deriváltja rendelkezésünkre áll. Ezután könnyedén optimalizálhatjuk a hibafüggvényt a gépi tanulási kutatásokban használt gradiens-alapú szélsőérékhelykereső eljárásokkal. Az `autograd` csomag a hagyományos műveleteket terheli túl egy speciális duális számtípusra nézve, így az összes művelet gradiense a program futása közben automatikusan előáll (a duális komponensre ezek a műveletek a megfelelő deriválási szabályt alkalmazzák)."
   ]
  },
  {
   "cell_type": "code",
   "execution_count": 1,
   "metadata": {
    "colab": {},
    "colab_type": "code",
    "id": "cdQ3SJDdI4wD"
   },
   "outputs": [],
   "source": [
    "#!pip install autograd"
   ]
  },
  {
   "cell_type": "code",
   "execution_count": 2,
   "metadata": {
    "colab": {},
    "colab_type": "code",
    "id": "ydkjsD5lI7LR"
   },
   "outputs": [],
   "source": [
    "%matplotlib inline\n",
    "from matplotlib import pyplot as plt\n",
    "\n",
    "import autograd.numpy as np\n",
    "from autograd import grad, jacobian\n",
    "from autograd.misc.optimizers import rmsprop"
   ]
  },
  {
   "cell_type": "code",
   "execution_count": 3,
   "metadata": {
    "colab": {},
    "colab_type": "code",
    "id": "MiriDJj-JArx"
   },
   "outputs": [],
   "source": [
    "g  = 9.81\n",
    "m  = 5.\n",
    "M  = 250.\n",
    "w  = 10.\n",
    "r  = 7.5\n",
    "l  = 5.5\n",
    "R  = 2.\n",
    "L  = 1.5\n",
    "Δt = 0.01"
   ]
  },
  {
   "cell_type": "code",
   "execution_count": 4,
   "metadata": {
    "colab": {},
    "colab_type": "code",
    "id": "1uyoip5_JB_6"
   },
   "outputs": [],
   "source": [
    "def shoot(r,l,R,L,vis=False):\n",
    "    d = (R-r)/2\n",
    "    I = w*(r+R)**2/12 + w*d**2\n",
    "    \n",
    "    def x(q): return -(r*np.sin(q[0])+l*np.sin(q[1]))\n",
    "    def y(q): return -(r*np.cos(q[0])+l*np.cos(q[1]))\n",
    "    def X(q): return R*np.sin(q[0])+L*np.sin(q[2])\n",
    "    def Y(q): return R*np.cos(q[0])-L*np.cos(q[2])\n",
    "\n",
    "    def dx(q,dq): return -(r*np.cos(q[0])*dq[0]+l*np.cos(q[1])*dq[1])\n",
    "    def dy(q,dq): return r*np.sin(q[0])*dq[0]+l*np.sin(q[1])*dq[1]\n",
    "\n",
    "    def mass(q):\n",
    "        return np.array([[m*r**2+M*R**2+I,        m*r*l*np.cos(q[0]-q[1]), M*R*L*np.cos(q[0]+q[2])],\n",
    "                        [m*r*l*np.cos(q[0]-q[1]), m*l**2,                  0                      ],\n",
    "                        [M*R*L*np.cos(q[0]+q[2]), 0,                       M*L**2                 ]])\n",
    "\n",
    "    def H(p,q): return 0.5*np.dot(p,np.linalg.solve(mass(q),p)) + m*g*y(q) + M*g*Y(q) + w*g*d*np.cos(q[0])\n",
    "\n",
    "    def dp(p,q): return grad(lambda q: -H(p,q))(q)\n",
    "    def dq(p,q): return grad(lambda p:  H(p,q))(p)\n",
    "\n",
    "    def lp(p,q): return p-Δt/2*dp(p,q)\n",
    "    def rp(p,q): return p+Δt/2*dp(p,q)\n",
    "    def lq(p,q): return q-Δt/2*dq(p,q)\n",
    "    def rq(p,q): return q+Δt/2*dq(p,q)\n",
    "    \n",
    "    coords = []\n",
    "    p0,q0  = np.array([0.,0.,0.]),np.array([np.pi/4,-np.pi/2,0.])\n",
    "    while q0[1]<3*np.pi/4:\n",
    "        rp0,rq0 = rp(p0,q0),rq(p0,q0)\n",
    "        dp0,dq0 = lp(p0,q0)-rp0,lq(p0,q0)-rq0\n",
    "        while dp0@dp0+dq0@dq0>1e-12:\n",
    "            p0 -= dp0\n",
    "            q0 -= dq0\n",
    "            dp0,dq0 = lp(p0,q0)-rp0,lq(p0,q0)-rq0\n",
    "        if vis:\n",
    "            coords += [[x(q0),y(q0)]]\n",
    "    dq0    = dq(p0,q0)\n",
    "    s0,ds0 = np.array([x(q0),y(q0)]),np.array([dx(q0,dq0),dy(q0,dq0)])\n",
    "    a      = np.array([0,-g])\n",
    "    while s0[1]>-5:\n",
    "        s0  += ds0*Δt + a/2*Δt**2\n",
    "        ds0 += a*Δt\n",
    "        \n",
    "        if vis:\n",
    "            coords += [[s0[0],s0[1]]]\n",
    "    \n",
    "    return s0[0],np.array(coords)"
   ]
  },
  {
   "cell_type": "code",
   "execution_count": 5,
   "metadata": {
    "colab": {
     "base_uri": "https://localhost:8080/",
     "height": 281
    },
    "colab_type": "code",
    "id": "mBHPMw3DAquz",
    "outputId": "2f5f2823-decc-4a12-81ef-f31420f2bbb6"
   },
   "outputs": [
    {
     "data": {
      "image/png": "[encoded data removed]",
      "text/plain": [
       "<Figure size 432x288 with 1 Axes>"
      ]
     },
     "metadata": {
      "needs_background": "light"
     },
     "output_type": "display_data"
    }
   ],
   "source": [
    "dist,coords = shoot(7.5,5.5,2.,1.5,True)\n",
    "plt.plot(coords[:,0],coords[:,1])\n",
    "plt.title(\"Distance: {:.3f}\".format(dist));"
   ]
  },
  {
   "cell_type": "code",
   "execution_count": 6,
   "metadata": {
    "colab": {
     "base_uri": "https://localhost:8080/",
     "height": 217
    },
    "colab_type": "code",
    "id": "OLY2iwcDJDee",
    "outputId": "a8348fb7-e1fb-4e7f-bc0c-b59b70ee9750"
   },
   "outputs": [
    {
     "name": "stdout",
     "output_type": "stream",
     "text": [
      "Iter 0, Dist: 230.554 m, error: 80.554 m\n",
      "Iter 1, Dist: 206.922 m, error: 56.922 m\n",
      "Iter 2, Dist: 187.205 m, error: 37.205 m\n",
      "Iter 3, Dist: 173.665 m, error: 23.665 m\n",
      "Iter 4, Dist: 163.591 m, error: 13.591 m\n",
      "Iter 5, Dist: 157.064 m, error: 7.064 m\n",
      "Iter 6, Dist: 153.401 m, error: 3.401 m\n",
      "Iter 7, Dist: 151.280 m, error: 1.280 m\n",
      "Iter 8, Dist: 150.649 m, error: 0.649 m\n",
      "Iter 9, Dist: 150.010 m, error: 0.010 m\n",
      "Optimal parameters: r=7.896, l=5.863, R=1.494, L=1.228\n"
     ]
    }
   ],
   "source": [
    "params = np.array([7.5,5.5,2.,1.5])\n",
    "target = 150.\n",
    "\n",
    "def callback(params, iter, g):\n",
    "    dist = shoot(*params)[0]\n",
    "    print(\"Iter {}, Dist: {:.3f} m, error: {:.3f} m\".format(iter,dist,np.abs(dist-target)))\n",
    "\n",
    "opt = rmsprop(grad(lambda p,i: (shoot(*p)[0]-target)**2),params,step_size=0.05,num_iters=10,callback=callback)\n",
    "print(\"Optimal parameters: r={:.3f}, l={:.3f}, R={:.3f}, L={:.3f}\".format(*opt))"
   ]
  },
  {
   "cell_type": "code",
   "execution_count": null,
   "metadata": {
    "colab": {},
    "colab_type": "code",
    "id": "zYI5RwS6JLlr"
   },
   "outputs": [],
   "source": []
  }
 ],
 "metadata": {
  "colab": {
   "collapsed_sections": [],
   "name": "Trebuchet-Hamiltonian.ipynb",
   "provenance": []
  },
  "kernelspec": {
   "display_name": "Python 3",
   "language": "python",
   "name": "python3"
  },
  "language_info": {
   "codemirror_mode": {
    "name": "ipython",
    "version": 3
   },
   "file_extension": ".py",
   "mimetype": "text/x-python",
   "name": "python",
   "nbconvert_exporter": "python",
   "pygments_lexer": "ipython3",
   "version": "3.7.6"
  }
 },
 "nbformat": 4,
 "nbformat_minor": 2
}
