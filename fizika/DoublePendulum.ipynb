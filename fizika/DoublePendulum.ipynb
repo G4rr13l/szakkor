{
 "cells": [
  {
   "cell_type": "markdown",
   "metadata": {},
   "source": [
    "## Dupla inga szimulációja szimbolikus differenciálással\n",
    "\n",
    "Szokásos Lagrange-függvényes módszer, de a mozgásegyenleteket most nem kézzel számoljuk, hanem a `Sympy` csomaggal."
   ]
  },
  {
   "cell_type": "code",
   "execution_count": 1,
   "metadata": {},
   "outputs": [],
   "source": [
    "using DifferentialEquations\n",
    "using SymPy\n",
    "using PyCall\n",
    "using Plots\n",
    "PyCall.pyimport_conda(\"sympy.physics.mechanics\", \"sympy\");"
   ]
  },
  {
   "cell_type": "code",
   "execution_count": 2,
   "metadata": {},
   "outputs": [],
   "source": [
    "l1,l2,m1,m2,g,t = @syms l1 l2 m1 m2 g t\n",
    "q  = [f(t) for f in @symfuns θ1 θ2]\n",
    "qd = [f.diff(t) for f in q];"
   ]
  },
  {
   "cell_type": "code",
   "execution_count": 3,
   "metadata": {},
   "outputs": [],
   "source": [
    "θ1,θ2   = q\n",
    "θ1d,θ2d = qd\n",
    "\n",
    "x1,y1 = l1*sin(θ1),-l1*cos(θ1)\n",
    "x2,y2 = x1+l2*sin(θ2),y1-l2*cos(θ2);"
   ]
  },
  {
   "cell_type": "code",
   "execution_count": 4,
   "metadata": {},
   "outputs": [],
   "source": [
    "v1,v2 = x1.diff(t)^2 + y1.diff(t)^2, x2.diff(t)^2 + y2.diff(t)^2\n",
    "Lag   = (m1*v1/2 + m2*v2/2 - m1*g*y1 - m2*g*y2).simplify()\n",
    "LM    = sympy.physics.mechanics.LagrangesMethod(Lag,[θ1,θ2])\n",
    "LM.form_lagranges_equations();"
   ]
  },
  {
   "cell_type": "code",
   "execution_count": 5,
   "metadata": {},
   "outputs": [],
   "source": [
    "u  = vcat(qd,q)\n",
    "M_ = LM.mass_matrix.subs(zip(u,[\"u$i\" for i in 1:length(u)]))\n",
    "f_ = LM.forcing.subs(zip(u,[\"u$i\" for i in 1:length(u)]))\n",
    "eval(Meta.parse(\"M(u,t) = \" * reduce(replace,[r\"u(\\d+)\"=>s\"u[\\1]\",\"Sym\"=>\"\"],init=string(M_))))\n",
    "eval(Meta.parse(\"f(u,t) = \" * reduce(replace,[r\"u(\\d+)\"=>s\"u[\\1]\",\"Sym\"=>\"\"],init=string(f_))));"
   ]
  },
  {
   "cell_type": "code",
   "execution_count": 6,
   "metadata": {},
   "outputs": [],
   "source": [
    "function pendulum!(du,u,p,t)\n",
    "    du[1:2] = M(u,t)\\f(u,t) .- α.*u[1:2]\n",
    "    du[3:4] = u[1:2]\n",
    "end;"
   ]
  },
  {
   "cell_type": "code",
   "execution_count": 7,
   "metadata": {},
   "outputs": [],
   "source": [
    "l1,l2,m1,m2,g = .75,.25,1.,1.,9.81\n",
    "α    = [0.05,0.05]\n",
    "u0   = [0.,0.,pi/2,0.]\n",
    "prob = ODEProblem(pendulum!,u0,(0.,15.))\n",
    "sol  = DifferentialEquations.solve(prob,Tsit5(),adaptive=false,dt=0.001);"
   ]
  },
  {
   "cell_type": "code",
   "execution_count": 8,
   "metadata": {},
   "outputs": [
    {
     "name": "stderr",
     "output_type": "stream",
     "text": [
      "┌ Info: Saved animation to \n",
      "│   fn = /home/bj0rn/Desktop/szakkör/fiz/pendulum.gif\n",
      "└ @ Plots /home/bj0rn/.julia/packages/Plots/jWNMG/src/animation.jl:90\n"
     ]
    },
    {
     "data": {
      "text/html": [
       "<img src=\"pendulum.gif\" />"
      ],
      "text/plain": [
       "Plots.AnimatedGif(\"/home/bj0rn/Desktop/szakkör/fiz/pendulum.gif\")"
      ]
     },
     "execution_count": 8,
     "metadata": {},
     "output_type": "execute_result"
    }
   ],
   "source": [
    "anim = @animate for t in 1:length(sol)\n",
    "    θ1,θ2 = sol.u[t][3:4]\n",
    "    x1,y1 = l1*sin(θ1),-l1*cos(θ1)\n",
    "    x2,y2 = x1+l2*sin(θ2),y1-l2*cos(θ2)\n",
    "    \n",
    "    plot([0,x1,x2],[0,y1,y2],xlims=(-1.2,1.2),ylims=(-1.2,1.2),title=string(t),aspect_ratio=:equal,legend=:none)\n",
    "    plot!([0,x1,x2],[0,y1,y2],seriestype=:scatter)\n",
    "end every 50\n",
    "gif(anim,\"pendulum.gif\")"
   ]
  },
  {
   "cell_type": "code",
   "execution_count": null,
   "metadata": {},
   "outputs": [],
   "source": []
  }
 ],
 "metadata": {
  "kernelspec": {
   "display_name": "Julia 1.1.0",
   "language": "julia",
   "name": "julia-1.1"
  },
  "language_info": {
   "file_extension": ".jl",
   "mimetype": "application/julia",
   "name": "julia",
   "version": "1.1.0"
  }
 },
 "nbformat": 4,
 "nbformat_minor": 2
}
