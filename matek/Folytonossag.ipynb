{
 "cells": [
  {
   "cell_type": "markdown",
   "metadata": {},
   "source": [
    "## Folytonosság szemléltetése\n",
    "\n",
    "Először is húzzuk be a múltkori deriválós kódot és a Newton-Raphson implementációt."
   ]
  },
  {
   "cell_type": "code",
   "execution_count": 1,
   "metadata": {},
   "outputs": [
    {
     "name": "stdout",
     "output_type": "stream",
     "text": [
      "Populating the interactive namespace from numpy and matplotlib\n"
     ]
    }
   ],
   "source": [
    "%pylab inline\n",
    "\n",
    "class Expr:\n",
    "    def __init__(self,lhs,rhs,op):\n",
    "        self.lhs,self.rhs,self.op = lhs,rhs,op\n",
    "        \n",
    "    def __add__(self,rhs):\n",
    "        if type(rhs) == Expr:\n",
    "            return Expr(self,rhs,'+')\n",
    "        else:\n",
    "            return Expr(self,rhs,'+n')\n",
    "    \n",
    "    def __radd__(self,lhs):\n",
    "        return Expr(self,lhs,'+n')\n",
    "    \n",
    "    def __sub__(self,rhs):\n",
    "        if type(rhs) == Expr:\n",
    "            return self+rhs*(-1)\n",
    "        else:\n",
    "            return self+(-rhs)\n",
    "        \n",
    "    def __rsub__(self,lhs):\n",
    "        return lhs+self*(-1)\n",
    "    \n",
    "    def __neg__(self):\n",
    "        return (-1)*self\n",
    "    \n",
    "    def __mul__(self,rhs):\n",
    "        if type(rhs) == Expr:\n",
    "            return Expr(self,rhs,'*')\n",
    "        else:\n",
    "            return Expr(self,rhs,'*n')\n",
    "    \n",
    "    def __rmul__(self,lhs):\n",
    "        return Expr(self,lhs,'*n')\n",
    "    \n",
    "    def __truediv__(self,rhs):\n",
    "        if type(rhs) == Expr:\n",
    "            return self*rhs**(-1)\n",
    "        else:\n",
    "            return self*(1/rhs)\n",
    "        \n",
    "    def __rtruediv__(self,lhs):\n",
    "        return self**(-1)*lhs\n",
    "    \n",
    "    def __pow__(self,rhs):\n",
    "        if type(rhs) == Expr:\n",
    "            return Expr(self,rhs,'**')\n",
    "        else:\n",
    "            return Expr(self,rhs,'**n')\n",
    "        \n",
    "    def __rpow__(self,lhs):\n",
    "        return Expr(lhs,self,'n**')\n",
    "    \n",
    "    def __call__(self,x0):\n",
    "        if self.op == '+':\n",
    "            return self.lhs(x0) + self.rhs(x0)\n",
    "        elif self.op == '+n':\n",
    "            return self.lhs(x0) + self.rhs\n",
    "        elif self.op == '*':\n",
    "            return self.lhs(x0) * self.rhs(x0)\n",
    "        elif self.op == '*n':\n",
    "            return self.lhs(x0) * self.rhs\n",
    "        elif self.op == '**':\n",
    "            return self.lhs(x0)**self.rhs(x0)\n",
    "        elif self.op == '**n':\n",
    "            return self.lhs(x0)**self.rhs\n",
    "        elif self.op == 'n**':\n",
    "            return self.lhs**self.rhs(x0)\n",
    "        elif self.op == 'sin':\n",
    "            return sin(self.lhs(x0))\n",
    "        elif self.op == 'cos':\n",
    "            return cos(self.lhs(x0))\n",
    "        elif self.op == 'log':\n",
    "            return log(self.lhs(x0))\n",
    "        elif self.op == 'exp':\n",
    "            return exp(self.lhs(x0))\n",
    "        elif self.op == 'id':\n",
    "            return x0\n",
    "        elif self.op == 'const':\n",
    "            return self.lhs\n",
    "        else:\n",
    "            raise NotImplementedError\n",
    "        \n",
    "    def diff(self):\n",
    "        if self.op == '+':\n",
    "            return self.lhs.diff() + self.rhs.diff()\n",
    "        elif self.op == '+n':\n",
    "            return self.lhs.diff()\n",
    "        elif self.op == '*':\n",
    "            return self.lhs.diff()*self.rhs + self.lhs*self.rhs.diff()\n",
    "        elif self.op == '*n':\n",
    "            return self.lhs.diff()*self.rhs\n",
    "        elif self.op == '**':\n",
    "            return self.lhs**self.rhs * (self.rhs.diff()*Log(self.lhs) + self.rhs*self.lhs.diff()/self.lhs)\n",
    "        elif self.op == '**n':\n",
    "            return self.rhs*self.lhs**(self.rhs-1)*self.lhs.diff()\n",
    "        elif self.op == 'n**':\n",
    "            return self.lhs**self.rhs*log(self.lhs)*self.rhs.diff()\n",
    "        elif self.op == 'sin':\n",
    "            return Cos(self.lhs)*self.lhs.diff()\n",
    "        elif self.op == 'cos':\n",
    "            return -Sin(self.lhs)*self.lhs.diff()\n",
    "        elif self.op == 'log':\n",
    "            return self.lhs.diff()/self.lhs\n",
    "        elif self.op == 'exp':\n",
    "            return Exp(self.lhs)*self.lhs.diff()\n",
    "        elif self.op == 'id':\n",
    "            return Expr(1,None,'const')\n",
    "        elif self.op == 'const':\n",
    "            return Expr(0,None,'const')\n",
    "        else:\n",
    "            raise NotImplementedError\n",
    "    \n",
    "def Sin(x):\n",
    "    return Expr(x,None,'sin')\n",
    "def Cos(x):\n",
    "    return Expr(x,None,'cos')\n",
    "def Log(x):\n",
    "    return Expr(x,None,'log')\n",
    "def Exp(x):\n",
    "    return Expr(x,None,'exp')\n",
    "def Sqrt(x):\n",
    "    return x**0.5\n",
    "x = Expr(None,None,'id')"
   ]
  },
  {
   "cell_type": "code",
   "execution_count": 2,
   "metadata": {},
   "outputs": [],
   "source": [
    "# Newton-Raphson\n",
    "def NR(f,x0):\n",
    "    df  = f.diff()\n",
    "    fx0 = f(x0)\n",
    "    while abs(fx0)>1e-6:\n",
    "        x0  -= fx0/df(x0)\n",
    "        fx0  = f(x0)\n",
    "    return x0"
   ]
  },
  {
   "cell_type": "markdown",
   "metadata": {},
   "source": [
    "## Folytonosság\n",
    "\n",
    "Egy $f: D_f\\rightarrow \\mathbb{R}$ függvény folytonos az $x_0$ pontban, ha minden $\\varepsilon > 0$-hoz létezik $\\delta>0$ úgy, hogy ha\n",
    "\n",
    "\\begin{align}\n",
    "\\left|x-x_0 \\right| < \\delta \\quad \\text{akkor} \\quad \\left| f(x) - f(x_0) \\right| < \\varepsilon .\n",
    "\\end{align}\n",
    "\n",
    "Ez kb. azt jelenti, hogy az $x_0$ pontban nem lehet szakadása vagy ugrása a függvénynek. Például az abszolútértékfüggvény minden pontban folytonos (röviden: folytonos), de az $1/x$ függvény nem, mert a $0$-ban szakadása van.\n",
    "\n",
    "<b>Feladat.</b> Keressük azt a (legnagyobb) $\\delta$ számot, amelyre\n",
    "\n",
    "\\begin{align}\n",
    "\\left|x-1 \\right| < \\delta \\quad \\text{esetén} \\quad \\left| x^2 - 1 \\right| < \\frac{1}{2} .\n",
    "\\end{align}\n",
    "\n",
    "Itt a folytonosságra megy ki a játék a következő szereposztással:\n",
    "\n",
    "- $f(x) = x^2$\n",
    "- $x_0 = 1$, azaz $f(x_0) = 1$\n",
    "- $\\varepsilon = \\frac{1}{2}$\n",
    "\n",
    "Mivel a négyzetfüggvény folytonos, kell tudnunk olyan $\\delta$-t mondani, ami teljesíti a feltételeket.\n",
    "\n",
    "<b>Megoldás.</b> Egyszerű: meg kell keresnünk, hogy az $y$ tengelyen az $f(x_0) \\pm \\varepsilon$ értékekhez milyen értékek tartoznak az $x$ tengelyen. Ha ez megvan, ezek közül az $x_0$-hoz \"közelebbit\" kell kiválasztanunk (nézzétek lent a megoldást). Analitikus megoldás:\n",
    "\n",
    "\\begin{align}\n",
    "0 = x_1^2-\\frac{1}{2} &,\\qquad 0 = x_2^2-\\frac{3}{2}\\\\\n",
    "x_{1,2} &= \\sqrt\\frac{1}{2}, \\sqrt\\frac{3}{2}\n",
    "\\end{align}\n",
    "\n",
    "Innen\n",
    "\\begin{align}\n",
    "\\delta = \\min \\left(\\left|1-\\sqrt\\frac{1}{2}\\right|,\\left|1-\\sqrt\\frac{3}{2}\\right|\\right) \\approx 0.225\n",
    "\\end{align}\n",
    "\n",
    "Általánosabban az értékek megkereséséhez használhatjuk a korábban tanult Newton-Raphson algoritmust: a függvényt \"letoljuk\" $f(x_0) \\pm \\varepsilon$-nal, megkeressük a zérushelyeket, majd megnézzük, hogy melyik esik közelebb $x_0$-hoz. Ennek a távolsága jó lesz $\\delta$-nak."
   ]
  },
  {
   "cell_type": "code",
   "execution_count": 3,
   "metadata": {},
   "outputs": [],
   "source": [
    "# Szereposztás, lehet vele játszani\n",
    "f = x**2\n",
    "x0  = 1\n",
    "eps = 1/2"
   ]
  },
  {
   "cell_type": "code",
   "execution_count": 4,
   "metadata": {},
   "outputs": [
    {
     "data": {
      "image/png": "[encoded data removed]",
      "text/plain": [
       "<Figure size 432x288 with 1 Axes>"
      ]
     },
     "metadata": {
      "needs_background": "light"
     },
     "output_type": "display_data"
    }
   ],
   "source": [
    "lsp = np.linspace(0,2,100)\n",
    "plot(lsp,f(lsp))\n",
    "\n",
    "axhline(f(x0),     ls='-',c='black')\n",
    "axhline(f(x0)+eps, ls='--',c='black')\n",
    "axhline(f(x0)-eps, ls='--',c='black')\n",
    "\n",
    "axvline(x0,ls='-',c='black')\n",
    "title(\"Hol metszik a szaggatott vonalak a függvény gráfját?\");"
   ]
  },
  {
   "cell_type": "code",
   "execution_count": 5,
   "metadata": {},
   "outputs": [],
   "source": [
    "# Megkeressük a zérushelyeket\n",
    "d1,d2 = NR(f-(f(x0)-eps),x0), NR(f-(f(x0)+eps),x0)\n",
    "\n",
    "# Vesszük a közelebbinek a távolságát x0-tól\n",
    "delta = min(abs(x0-d1),abs(x0-d2))"
   ]
  },
  {
   "cell_type": "code",
   "execution_count": 6,
   "metadata": {},
   "outputs": [
    {
     "data": {
      "image/png": "[encoded data removed]",
      "text/plain": [
       "<Figure size 432x288 with 1 Axes>"
      ]
     },
     "metadata": {
      "needs_background": "light"
     },
     "output_type": "display_data"
    }
   ],
   "source": [
    "plot(lsp,f(lsp));\n",
    "\n",
    "axhline(f(x0),     ls='-', c='black')\n",
    "axhline(f(x0)+eps, ls='--',c='black')\n",
    "axhline(f(x0)-eps, ls='--',c='black')\n",
    "\n",
    "axvline(x0,ls='-', c='black')\n",
    "axvline(d1,ls='--',c='black')\n",
    "axvline(d2,ls='--',c='black')\n",
    "axvline(x0+delta,ls=':',c='red')\n",
    "axvline(x0-delta,ls=':',c='red')\n",
    "title(\"Megvan! Delta = {:.3f}\".format(delta));"
   ]
  },
  {
   "cell_type": "code",
   "execution_count": null,
   "metadata": {},
   "outputs": [],
   "source": []
  }
 ],
 "metadata": {
  "kernelspec": {
   "display_name": "Python 3",
   "language": "python",
   "name": "python3"
  },
  "language_info": {
   "codemirror_mode": {
    "name": "ipython",
    "version": 3
   },
   "file_extension": ".py",
   "mimetype": "text/x-python",
   "name": "python",
   "nbconvert_exporter": "python",
   "pygments_lexer": "ipython3",
   "version": "3.7.6"
  }
 },
 "nbformat": 4,
 "nbformat_minor": 2
}
