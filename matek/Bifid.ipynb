{
 "cells": [
  {
   "cell_type": "markdown",
   "metadata": {},
   "source": [
    "## Bifid titkosírás törése szimulált lehűtéssel"
   ]
  },
  {
   "cell_type": "code",
   "execution_count": 1,
   "metadata": {
    "collapsed": false
   },
   "outputs": [
    {
     "name": "stdout",
     "output_type": "stream",
     "text": [
      "Populating the interactive namespace from numpy and matplotlib\n"
     ]
    }
   ],
   "source": [
    "%pylab inline\n",
    "import numpy as np\n",
    "from __future__ import print_function\n",
    "from matplotlib import pyplot as plt"
   ]
  },
  {
   "cell_type": "code",
   "execution_count": 2,
   "metadata": {
    "collapsed": true
   },
   "outputs": [],
   "source": [
    "def c2n(c):\n",
    "    return ord(c)-65\n",
    "\n",
    "def n2c(n):\n",
    "    return chr(n+65)\n",
    "\n",
    "def vissza_tabla_keszit(oda_tabla):\n",
    "    vt1 = [0]*25\n",
    "    vt2 = [0]*25\n",
    "    for i in range(5):\n",
    "        for j in range(5):\n",
    "            vt1[oda_tabla[i,j]]=i\n",
    "            vt2[oda_tabla[i,j]]=j\n",
    "    return vt1,vt2\n",
    "\n",
    "def uj_tabla():\n",
    "    oda_tabla = np.random.permutation(25).reshape((5,5))\n",
    "    vt1,vt2 = vissza_tabla_keszit(oda_tabla)\n",
    "    return oda_tabla,vt1,vt2\n",
    "\n",
    "def koordinatak(c,vt1,vt2):\n",
    "    hol = c2n(c)\n",
    "    return (vt1[hol],vt2[hol])\n",
    "\n",
    "def kodol(blokk,oda_tabla,vt1,vt2):\n",
    "    l = len(blokk)\n",
    "    t = [0]*(l*2)\n",
    "    for u in range(l):\n",
    "        koord = koordinatak(blokk[u],vt1,vt2)\n",
    "        t[u] = koord[0]\n",
    "        t[u+l] = koord[1]\n",
    "    t2 = \"\"\n",
    "    for u in range(l):\n",
    "        t2 += n2c(oda_tabla[t[u*2],t[u*2+1]])\n",
    "    return t2\n",
    "\n",
    "def dekodol(blokk,oda_tabla,vt1,vt2):\n",
    "    l = len(blokk)\n",
    "    t = [0]*(l*2)\n",
    "    for u in range(l):\n",
    "        koord = koordinatak(blokk[u],vt1,vt2)\n",
    "        t[u*2] = koord[0]\n",
    "        t[u*2+1] = koord[1]\n",
    "    t2 = \"\"\n",
    "    for u in range(l):\n",
    "        t2 += n2c(oda_tabla[t[u],t[u+l]])\n",
    "    return t2\n",
    "\n",
    "def kodol_full(szoveg,oda_tabla,vt1,vt2,blokk_meret):\n",
    "    blokkok = len(szoveg)/blokk_meret\n",
    "    titkos = \"\"\n",
    "    for b in range(blokkok+1):\n",
    "        titkos += kodol(szoveg[(b*blokk_meret):(b+1)*blokk_meret],oda_tabla,vt1,vt2)\n",
    "    return titkos\n",
    "\n",
    "def dekodol_full(titkos,oda_tabla,vt1,vt2,blokk_meret):\n",
    "    blokkok = len(titkos)/blokk_meret\n",
    "    dekodolt = \"\"\n",
    "    for b in range(blokkok+1):\n",
    "        dekodolt += dekodol(titkos[(b*blokk_meret):(b+1)*blokk_meret],oda_tabla,vt1,vt2)\n",
    "    return dekodolt"
   ]
  },
  {
   "cell_type": "code",
   "execution_count": 3,
   "metadata": {
    "collapsed": false
   },
   "outputs": [],
   "source": [
    "oda_titkos_tabla,vt_titkos_1,vt_titkos_2 = uj_tabla()"
   ]
  },
  {
   "cell_type": "code",
   "execution_count": 4,
   "metadata": {
    "collapsed": false
   },
   "outputs": [
    {
     "data": {
      "text/plain": [
       "('MCAEHRAPD', 'HOLLARIHO')"
      ]
     },
     "execution_count": 4,
     "metadata": {},
     "output_type": "execute_result"
    }
   ],
   "source": [
    "uzenet = \"HOLLARIHO\"\n",
    "titkos = kodol(uzenet,oda_titkos_tabla,vt_titkos_1,vt_titkos_2)\n",
    "dekod  = dekodol(titkos,oda_titkos_tabla,vt_titkos_1,vt_titkos_2)\n",
    "titkos,dekod"
   ]
  },
  {
   "cell_type": "code",
   "execution_count": 5,
   "metadata": {
    "collapsed": false
   },
   "outputs": [
    {
     "name": "stdout",
     "output_type": "stream",
     "text": [
      "ONTRBRESDRVYUSSOLEOIQTSGORWVUPPEJWVWOPEEWAOJSLUEBPTGEEHETIWWHMESAIIXYGKBLOBFBROSBSYIDPODWYIHBMXTOVWUTOBMOLGATAMYBVYUISODUAFTKYYOORYCSLWAURNFOLRMONGRXGMANEELGOSMDWOSMPUBIAATKUMHIDGDMJMIQTKDRHRWUBIBYTXQBANERMSMUWPIAQBMRGODWMTIWFOKSYRUPWKPULKRVQWNSUGNRNEILTUCMGUWTWOPCSWNNHOESROIRFSHYNWTMRIHBUCNDASRLIBFBKVSMRMUDJJOUBVPVDEWWCAABBRTOGPOHMITOGWPBOQBIRGOMWMXNGKBAANRDNTGERUWAACDSRSOIUORCMTTRLMRDAOQTLIOOQKVOYLOXFVMRVIRLESTIINSHQEHRAGSMYSOOYKOHFUTUEIRSYKAANKWPGWBNURVDABTPRNVPMKKNBTRGRHBWSMRKJASTUWPHOQBISGNMHWEBCSPONOPPVJURSWDVLGRSOALTWEAHKACABTWPRHBWNSVOEAXAEKNSNERVOWTOTSHUWPIOQBMSGIWHWOBFONTMXGHIRGUMWSOOJOLGMTOLMGNSUWEIWQGKSOATWRWHKGSGRXREMHOWNTGAEHESOMXOMAEEIJRWQWYYVWJVEPMOFUGTOVSTRHOHLYTCOFOKUASAUINRYFRYAYROSDQTUSOWTRUJOSJMTVMWSRSBMSVJWRSMBWMRDRVSUSSLAGWMKMBOJOYGMTHGGOXWSMHOAVRRMEACRRRSOSLLFOGDYBOWPIAQBMLURDQMBEEODQTTIRHPRAGWOKMWOLRBSVTEWAGHBKMWNTWBRUBSHYRDWDNHONOEXGJSNDWBRWBRAGWOHAQPIRBBMYDADNSKOEVNEVTMLSOOTUWSHOQPINOBMMJJWUTWBOOTROBHLVDJOARMTSFMOAOQROUFNVFAOKTOSJWTVMBNWIUONVORTRDLHMBWJODMMTURVLBSSMLWTGTOHEHRHDRKEMSBQSPDWMRLBTMSRORUTIBTHMDQIWIROBORAROBMBXHOSKMXBERNSTWOAHWSHWBDWSNBYEERDPWANTMCGHRHDRKEMSAPTIWEHMDQDNIRORJUVYODSMURAUCLDYBYIXDFLREUBDCMDOOSRGTSAAOGWPBOQBIEORMWYXBTUIRHOQLRFWGAMTGPOROEUSTIGAOSMRQTWWMHBONSTREAHLNMUTDATHIYULKADMKOQUYUMVUBRAMEJTGTGGMHEMRNRGAGOAKGWEMMBVRTRNTHLTEIQMWQEWSENANHIYANPYPGRAVUOYESTVRDYUQBMAWPIOQBMJMUNOMOETAYUOCCOUTRMGHYOMMWNDAPGKIOEEHRWPNTRDRESURVLBSSHEAAQRKYWWYNACHICSNSWWEHOSGVQPMSWKWSRGSELDUVVGDSKSMROSUYXJYARBFINREFOBOTTBHIUPECORAAQRRTORYICUORQTDRNJMPEMOWGOTIAWGBCNEDGVGWSTMKJMUWPIAQBMAYURCCOXOSWIXBPHLAAYVMYCUOGWOBOQPIBTBMRHIOENKTKRJWUTEPOOONDXCMURISHKMDWSEUONBTKMUOLROSVTUUVVODSONSEPEAUWRNQGLDOSWBGTGOAHEWNOAIGXPWRLKBOAJORCMTWNPUXUBYBMYIMUKKDSVTUWSEAQPINOBMETVFTESTHHOAOSUMTDDGMRKSUYLRGBVAAAYUOTCOUOLEOIQTSGORDIUSRVE\n"
     ]
    }
   ],
   "source": [
    "with open(\"szoveg_preproc.txt\") as f:\n",
    "    nyers = f.readline()\n",
    "titkos = kodol_full(nyers,oda_titkos_tabla,vt_titkos_1,vt_titkos_2,8)\n",
    "print(titkos)"
   ]
  },
  {
   "cell_type": "code",
   "execution_count": 6,
   "metadata": {
    "collapsed": false
   },
   "outputs": [
    {
     "data": {
      "text/plain": [
       "<matplotlib.lines.Line2D at 0x7fa3166ca9d0>"
      ]
     },
     "execution_count": 6,
     "metadata": {},
     "output_type": "execute_result"
    },
    {
     "data": {
      "image/png": "[encoded data removed]",
      "text/plain": [
       "<matplotlib.figure.Figure at 0x7fa3166ca950>"
      ]
     },
     "metadata": {},
     "output_type": "display_data"
    }
   ],
   "source": [
    "bigrams = [dict() for i in range(20)]\n",
    "hossz = len(titkos)\n",
    "for t in range(hossz):\n",
    "    for s in range(np.max([0,t-20]),t):\n",
    "        bigram = titkos[t]+titkos[s]\n",
    "        if bigram in bigrams[t-s-1]:\n",
    "            bigrams[t-s-1][bigram] += 1\n",
    "        else:\n",
    "            bigrams[t-s-1][bigram] = 1\n",
    "variancia = [np.var(bigrams[i].values()) for i in range(20)]\n",
    "plt.plot(np.arange(1,21),variancia)\n",
    "plt.axvline(np.argmax(variancia)+1,color=\"black\",ls=\"--\")"
   ]
  },
  {
   "cell_type": "code",
   "execution_count": 7,
   "metadata": {
    "collapsed": false
   },
   "outputs": [],
   "source": [
    "qgram = np.zeros((26,26,26,26))\n",
    "with open(\"english_quadgrams.txt\") as f:\n",
    "    sorok = f.readlines()\n",
    "    for sor in sorok:\n",
    "        qg,szam = sor.split(\" \")\n",
    "        qgram[c2n(qg[0]),c2n(qg[1]),c2n(qg[2]),c2n(qg[3])] = int(szam)\n",
    "    qgram = np.log1p(qgram/sum(qgram))   "
   ]
  },
  {
   "cell_type": "code",
   "execution_count": 8,
   "metadata": {
    "collapsed": false
   },
   "outputs": [],
   "source": [
    "def qgram_pont(s):\n",
    "    pont = 0.0\n",
    "    qgram_szam = len(s)-3\n",
    "    for i in range(qgram_szam):\n",
    "        pont += qgram[c2n(s[i]),c2n(s[i+1]),c2n(s[i+2]),c2n(s[i+3])]\n",
    "    return pont/(qgram_szam)"
   ]
  },
  {
   "cell_type": "code",
   "execution_count": 11,
   "metadata": {
    "collapsed": false
   },
   "outputs": [
    {
     "name": "stdout",
     "output_type": "stream",
     "text": [
      " Fittness:  0.000189653646251  acc:  0.045     Kesz.\n"
     ]
    }
   ],
   "source": [
    "oda_proba_tabla = np.random.permutation(25).reshape((5,5))\n",
    "blokk_meret = (np.argmax(variancia)+1)*2\n",
    "pont,utso_pont,kesz = 0,-1,0\n",
    "for t in np.linspace(10,0,500)/1e7:\n",
    "    acc = 0.0\n",
    "    for e in range(1000):\n",
    "        i = np.random.randint(5,size=4)\n",
    "        uj_t = np.copy(oda_proba_tabla)\n",
    "        uj_t[i[0],i[1]],uj_t[i[2],i[3]] = uj_t[i[2],i[3]],uj_t[i[0],i[1]]\n",
    "        uj_t_vt1, uj_t_vt2 = vissza_tabla_keszit(uj_t)\n",
    "        uj_pont = qgram_pont(dekodol_full(titkos,uj_t,uj_t_vt1,uj_t_vt2,blokk_meret))\n",
    "        \n",
    "        kulonbseg = uj_pont-pont\n",
    "        elfogad = np.exp(kulonbseg/t)\n",
    "        if np.random.rand()<elfogad:\n",
    "            oda_proba_tabla = np.copy(uj_t)\n",
    "            pont,utso_pont = uj_pont,pont\n",
    "            acc += 1\n",
    "    print(\"\\r\",\"Fittness: \",pont,\" acc: \",acc/1000,end='     ')\n",
    "    \n",
    "    if pont == utso_pont:\n",
    "        kesz += 1\n",
    "    else:\n",
    "        kesz = 0\n",
    "    \n",
    "    if kesz == 10:\n",
    "        print(\"Kesz.\")\n",
    "        break"
   ]
  },
  {
   "cell_type": "code",
   "execution_count": 12,
   "metadata": {
    "collapsed": false
   },
   "outputs": [
    {
     "data": {
      "text/plain": [
       "array([[ 2, 11, 24,  5, 21],\n",
       "       [15, 13, 18,  6,  0],\n",
       "       [10,  1, 12,  7, 14],\n",
       "       [23, 16, 19,  9,  3],\n",
       "       [ 8, 17,  4, 20, 22]])"
      ]
     },
     "execution_count": 12,
     "metadata": {},
     "output_type": "execute_result"
    }
   ],
   "source": [
    "oda_proba_tabla"
   ]
  },
  {
   "cell_type": "code",
   "execution_count": 13,
   "metadata": {
    "collapsed": false
   },
   "outputs": [
    {
     "data": {
      "text/plain": [
       "array([[22, 17,  4,  8, 20],\n",
       "       [ 0, 13, 18, 15,  6],\n",
       "       [14,  1, 12, 10,  7],\n",
       "       [21, 11, 24,  2,  5],\n",
       "       [ 3, 16, 19, 23,  9]])"
      ]
     },
     "execution_count": 13,
     "metadata": {},
     "output_type": "execute_result"
    }
   ],
   "source": [
    "oda_titkos_tabla"
   ]
  },
  {
   "cell_type": "code",
   "execution_count": 14,
   "metadata": {
    "collapsed": false
   },
   "outputs": [
    {
     "data": {
      "text/plain": [
       "'MRANDMRSDURSLEYOFNUMBERFOURPRIVETDRIVEWEREPROUDTOSAYTHATTHEYWEREPERFECTLYNORMALTHANKYOUVERYMUCHTHEYWERETHELASTPEOPLEYOUDEXPECTTOBEINVOLVEDINANYTHINGSTRANGEORMYSTERIOUSBECAUSETHEYJUSTDIDNTHOLDWITHSUCHNONSENSEMRDURSLEYWASTHEDIRECTOROFAFIRMCALLEDGRUNNINGSWHICHMADEDRILLSHEWASABIGBEEFYMANWITHHARDLYANYNECKALTHOUGHHEDIDHAVEAVERYLARGEMUSTACHEMRSDURSLEYWASTHINANDBLONDEANDHADNEARLYTWICETHEUSUALAMOUNTOFNECKWHICHCAMEINVERYUSEFULASSHESPENTSOMUCHOFHERTIMECRANINGOVERGARDENFENCESSPYINGONTHENEIGHBORSTHEDURSLEYSHADASMALLSONCALLEDDUDLEYANDINTHEIROPINIONTHEREWASNOFINERBOYANYWHERETHEDURSLEYSHADEVERYTHINGTHEYWANTEDBUTTHEYALSOHADASECRETANDTHEIRGREATESTFEARWASTHATSOMEBODYWOULDDISCOVERITTHEYDIDNTTHINKTHEYCOULDBEARITIFANYONEFOUNDOUTABOUTTHEPOTTERSMRSPOTTERWASMRSDURSLEYSSISTERBUTTHEYHADNTMETFORSEVERALYEARSINFACTMRSDURSLEYPRETENDEDSHEDIDNTHAVEASISTERBECAUSEHERSISTERANDHERGOODFORNOTHINGHUSBANDWEREASUNDURSLEYISHASITWASPOSSIBLETOBETHEDURSLEYSSHUDDEREDTOTHINKWHATTHENEIGHBORSWOULDSAYIFTHEPOTTERSARRIVEDINTHESTREETTHEDURSLEYSKNEWTHATTHEPOTTERSHADASMALLSONTOOBUTTHEYHADNEVEREVENSEENHIMTHISBOYWASANOTHERGOODREASONFORKEEPINGTHEPOTTERSAWAYTHEYDIDNTWANTDUDLEYMIXINGWITHACHILDLIKETHATWHENMRANDMRSDURSLEYWOKEUPONTHEDULLGRAYTUESDAYOURSTORYSTARTSTHEREWASNOTHINGABOUTTHECLOUDYSKYOUTSIDETOSUGGESTTHATSTRANGEANDMYSTERIOUSTHINGSWOULDSOONBEHAPPENINGALLOVERTHECOUNTRYMRDURSLEYHUMMEDASHEPICKEDOUTHISMOSTBORINGTIEFORWORKANDMRSDURSLEYGOSSIPEDAWAYHAPPILYASSHEWRESTLEDASCREAMINGDUDLEYINTOHISHIGHCHAIRNONEOFTHEMNOTICEDALARGETAWNYOWLFLUTTERPASTTHEWINDOWATHALFPASTEIGHTMRDURSLEYPICKEDUPHISBRIEFCASEPECKEDMRSDURSLEYONTHECHEEKANDTRIEDTOKISSDUDLEYGOODBYEBUTMISSEDBECAUSEDUDLEYWASNOWHAVINGATANTRUMANDTHROWINGHISCEREALATTHEWALLSLITTLETYKECHORTLEDMRDURSLEYASHELEFTTHEHOUSEHEGOTINTOHISCARANDBACKEDOUTOFNUMBERFOURSDRIVE'"
      ]
     },
     "execution_count": 14,
     "metadata": {},
     "output_type": "execute_result"
    }
   ],
   "source": [
    "vt_proba_1,vt_proba_2 = vissza_tabla_keszit(oda_proba_tabla)\n",
    "dekodol_full(titkos,oda_proba_tabla,vt_proba_1,vt_proba_2,blokk_meret)"
   ]
  },
  {
   "cell_type": "code",
   "execution_count": 16,
   "metadata": {
    "collapsed": false
   },
   "outputs": [
    {
     "data": {
      "text/plain": [
       "'MRANDMRSDURSLEYOFNUMBERFOURPRIVETDRIVEWEREPROUDTOSAYTHATTHEYWEREPERFECTLYNORMALTHANKYOUVERYMUCHTHEYWERETHELASTPEOPLEYOUDEXPECTTOBEINVOLVEDINANYTHINGSTRANGEORMYSTERIOUSBECAUSETHEYJUSTDIDNTHOLDWITHSUCHNONSENSEMRDURSLEYWASTHEDIRECTOROFAFIRMCALLEDGRUNNINGSWHICHMADEDRILLSHEWASABIGBEEFYMANWITHHARDLYANYNECKALTHOUGHHEDIDHAVEAVERYLARGEMUSTACHEMRSDURSLEYWASTHINANDBLONDEANDHADNEARLYTWICETHEUSUALAMOUNTOFNECKWHICHCAMEINVERYUSEFULASSHESPENTSOMUCHOFHERTIMECRANINGOVERGARDENFENCESSPYINGONTHENEIGHBORSTHEDURSLEYSHADASMALLSONCALLEDDUDLEYANDINTHEIROPINIONTHEREWASNOFINERBOYANYWHERETHEDURSLEYSHADEVERYTHINGTHEYWANTEDBUTTHEYALSOHADASECRETANDTHEIRGREATESTFEARWASTHATSOMEBODYWOULDDISCOVERITTHEYDIDNTTHINKTHEYCOULDBEARITIFANYONEFOUNDOUTABOUTTHEPOTTERSMRSPOTTERWASMRSDURSLEYSSISTERBUTTHEYHADNTMETFORSEVERALYEARSINFACTMRSDURSLEYPRETENDEDSHEDIDNTHAVEASISTERBECAUSEHERSISTERANDHERGOODFORNOTHINGHUSBANDWEREASUNDURSLEYISHASITWASPOSSIBLETOBETHEDURSLEYSSHUDDEREDTOTHINKWHATTHENEIGHBORSWOULDSAYIFTHEPOTTERSARRIVEDINTHESTREETTHEDURSLEYSKNEWTHATTHEPOTTERSHADASMALLSONTOOBUTTHEYHADNEVEREVENSEENHIMTHISBOYWASANOTHERGOODREASONFORKEEPINGTHEPOTTERSAWAYTHEYDIDNTWANTDUDLEYMIXINGWITHACHILDLIKETHATWHENMRANDMRSDURSLEYWOKEUPONTHEDULLGRAYTUESDAYOURSTORYSTARTSTHEREWASNOTHINGABOUTTHECLOUDYSKYOUTSIDETOSUGGESTTHATSTRANGEANDMYSTERIOUSTHINGSWOULDSOONBEHAPPENINGALLOVERTHECOUNTRYMRDURSLEYHUMMEDASHEPICKEDOUTHISMOSTBORINGTIEFORWORKANDMRSDURSLEYGOSSIPEDAWAYHAPPILYASSHEWRESTLEDASCREAMINGDUDLEYINTOHISHIGHCHAIRNONEOFTHEMNOTICEDALARGETAWNYOWLFLUTTERPASTTHEWINDOWATHALFPASTEIGHTMRDURSLEYPICKEDUPHISBRIEFCASEPECKEDMRSDURSLEYONTHECHEEKANDTRIEDTOKISSDUDLEYGOODBYEBUTMISSEDBECAUSEDUDLEYWASNOWHAVINGATANTRUMANDTHROWINGHISCEREALATTHEWALLSLITTLETYKECHORTLEDMRDURSLEYASHELEFTTHEHOUSEHEGOTINTOHISCARANDBACKEDOUTOFNUMBERFOURSDRIVE'"
      ]
     },
     "execution_count": 16,
     "metadata": {},
     "output_type": "execute_result"
    }
   ],
   "source": [
    "dekodol_full(titkos,oda_titkos_tabla,vt_titkos_1,vt_titkos_2,blokk_meret)"
   ]
  },
  {
   "cell_type": "code",
   "execution_count": null,
   "metadata": {
    "collapsed": true
   },
   "outputs": [],
   "source": []
  }
 ],
 "metadata": {
  "kernelspec": {
   "display_name": "Python 2",
   "language": "python",
   "name": "python2"
  },
  "language_info": {
   "codemirror_mode": {
    "name": "ipython",
    "version": 3
   },
   "file_extension": ".py",
   "mimetype": "text/x-python",
   "name": "python",
   "nbconvert_exporter": "python",
   "pygments_lexer": "ipython3",
   "version": "3.7.6"
  }
 },
 "nbformat": 4,
 "nbformat_minor": 2
}
