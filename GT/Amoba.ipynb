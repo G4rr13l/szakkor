{
 "cells": [
  {
   "cell_type": "markdown",
   "metadata": {},
   "source": [
    "## Amőbázó mesterséges intelligencia (Monte Carlo Tree Search)\n",
    "\n",
    "Kocsis-Szepesvári-féle cikk: http://ggp.stanford.edu/readings/uct.pdf"
   ]
  },
  {
   "cell_type": "code",
   "execution_count": 1,
   "metadata": {},
   "outputs": [
    {
     "name": "stdout",
     "output_type": "stream",
     "text": [
      "Populating the interactive namespace from numpy and matplotlib\n"
     ]
    }
   ],
   "source": [
    "%pylab inline"
   ]
  },
  {
   "cell_type": "code",
   "execution_count": 2,
   "metadata": {},
   "outputs": [],
   "source": [
    "class State:\n",
    "    def __init__(self, field, turn=1):\n",
    "        self.field = field\n",
    "        self.turn  = turn\n",
    "    \n",
    "    def move(self,i,j,turn):\n",
    "        field = np.copy(self.field)\n",
    "        field[i,j] = turn\n",
    "        return State(field,3-turn)\n",
    "        \n",
    "    def children(self):\n",
    "        ch = []\n",
    "        for i in range(3):\n",
    "            for j in range(3):\n",
    "                if self.field[i,j] == 0:\n",
    "                    ch += [self.move(i,j,self.turn)]\n",
    "        return ch\n",
    "    \n",
    "    def end(self):\n",
    "        for i in range(3):\n",
    "            if self.field[i,0] == self.field[i,1] and self.field[i,1] == self.field[i,2] and self.field[i,0] != 0:\n",
    "                return self.field[i,0]\n",
    "            \n",
    "            if self.field[0,i] == self.field[1,i] and self.field[1,i] == self.field[2,i] and self.field[0,i] != 0:\n",
    "                return self.field[0,i]\n",
    "            \n",
    "        if self.field[0,0] == self.field[1,1] and self.field[1,1] == self.field[2,2] and self.field[0,0] != 0:\n",
    "            return self.field[0,0]\n",
    "\n",
    "        if self.field[0,2] == self.field[1,1] and self.field[1,1] == self.field[2,0] and self.field[0,2] != 0:\n",
    "            return self.field[0,2]\n",
    "            \n",
    "        if np.any(self.field == 0):\n",
    "            return 0\n",
    "        \n",
    "        return 3\n",
    "    \n",
    "    def randomchild(self):\n",
    "        return np.random.choice(self.children())\n",
    "    \n",
    "    # Dictionary-hez kell\n",
    "    def __hash__(self):\n",
    "        return hash(self.field.tostring())\n",
    "    \n",
    "    def __eq__(self,other):\n",
    "        return np.all(self.field == other.field)"
   ]
  },
  {
   "cell_type": "code",
   "execution_count": 3,
   "metadata": {},
   "outputs": [],
   "source": [
    "class MCTS:\n",
    "    def __init__(self, state):\n",
    "        self.state = state\n",
    "        self.values = {}\n",
    "        self.values[state] = [0,0]\n",
    "    \n",
    "    def ucb(self, states):\n",
    "        melyik = 0\n",
    "        mennyi = -np.inf # fix\n",
    "        N = 0\n",
    "        for s in states:\n",
    "            N += self.values[s][1]\n",
    "        for i in states:\n",
    "            x,n = self.values[i]\n",
    "            if n == 0:\n",
    "                return i # különben nullával való osztás\n",
    "            d = x/n + sqrt((2*np.log(N))/n)\n",
    "            if d > mennyi:\n",
    "                mennyi = d\n",
    "                melyik = i\n",
    "                \n",
    "        return melyik\n",
    "        \n",
    "    def selection(self,state):\n",
    "        if state.end() == 0:\n",
    "            children = state.children()\n",
    "            if any([c not in self.values for c in children]): # fix (nem fában vagyunk)\n",
    "                return [state]\n",
    "            else:\n",
    "                q = self.ucb(children)\n",
    "                return [state] + self.selection(q) # fordított sorrend!\n",
    "        else: \n",
    "            return [state]\n",
    "        \n",
    "    def expansion(self,state):\n",
    "        for s in state.children():\n",
    "            if s not in self.values: # fix (nem fában vagyunk)\n",
    "                self.values[s] = [0,0]\n",
    "    \n",
    "    def rollout(self,state):\n",
    "        while state.end() == 0:\n",
    "            state = state.randomchild()\n",
    "        if state.end() == 1:\n",
    "            return -1. #0.\n",
    "        if state.end() == 3:\n",
    "            return 0. #0.5\n",
    "        else:\n",
    "            return 1.\n",
    "    \n",
    "    def update(self,path,score):\n",
    "        x = score\n",
    "        for p in path:\n",
    "            self.values[p][0] += x\n",
    "            self.values[p][1] += 1\n",
    "            x = -x #1-x"
   ]
  },
  {
   "cell_type": "code",
   "execution_count": 4,
   "metadata": {},
   "outputs": [],
   "source": [
    "mcts  = MCTS(State(np.zeros((3,3))))"
   ]
  },
  {
   "cell_type": "code",
   "execution_count": 6,
   "metadata": {},
   "outputs": [
    {
     "name": "stdout",
     "output_type": "stream",
     "text": [
      "[[0. 0. 0.]\n",
      " [0. 1. 0.]\n",
      " [0. 0. 0.]]\n"
     ]
    },
    {
     "name": "stdin",
     "output_type": "stream",
     "text": [
      "Hova teszel?  1,1\n"
     ]
    },
    {
     "name": "stdout",
     "output_type": "stream",
     "text": [
      "[[2. 0. 0.]\n",
      " [0. 1. 1.]\n",
      " [0. 0. 0.]]\n"
     ]
    },
    {
     "name": "stdin",
     "output_type": "stream",
     "text": [
      "Hova teszel?  2,1\n"
     ]
    },
    {
     "name": "stdout",
     "output_type": "stream",
     "text": [
      "[[2. 0. 0.]\n",
      " [2. 1. 1.]\n",
      " [1. 0. 0.]]\n"
     ]
    },
    {
     "name": "stdin",
     "output_type": "stream",
     "text": [
      "Hova teszel?  1,3\n"
     ]
    },
    {
     "name": "stdout",
     "output_type": "stream",
     "text": [
      "[[2. 1. 2.]\n",
      " [2. 1. 1.]\n",
      " [1. 0. 0.]]\n"
     ]
    },
    {
     "name": "stdin",
     "output_type": "stream",
     "text": [
      "Hova teszel?  3,2\n"
     ]
    },
    {
     "name": "stdout",
     "output_type": "stream",
     "text": [
      "[[2. 1. 2.]\n",
      " [2. 1. 1.]\n",
      " [1. 2. 1.]]\n"
     ]
    }
   ],
   "source": [
    "state = State(np.zeros((3,3)))\n",
    "\n",
    "while True:\n",
    "    for n in range(1000):\n",
    "        path = mcts.selection(state)\n",
    "        selected = path[-1]\n",
    "\n",
    "        mcts.expansion(selected)\n",
    "        score = mcts.rollout(selected)\n",
    "        mcts.update(path,score)\n",
    "    state = mcts.ucb(state.children())\n",
    "    print(state.field)\n",
    "    \n",
    "    if state.end():\n",
    "        break\n",
    "\n",
    "    i,j = input(\"Hova teszel? \").split(',')\n",
    "    i,j = int(i)-1,int(j)-1\n",
    "    state = state.move(i,j,2)"
   ]
  },
  {
   "cell_type": "code",
   "execution_count": null,
   "metadata": {},
   "outputs": [],
   "source": []
  }
 ],
 "metadata": {
  "kernelspec": {
   "display_name": "Python 3",
   "language": "python",
   "name": "python3"
  },
  "language_info": {
   "codemirror_mode": {
    "name": "ipython",
    "version": 3
   },
   "file_extension": ".py",
   "mimetype": "text/x-python",
   "name": "python",
   "nbconvert_exporter": "python",
   "pygments_lexer": "ipython3",
   "version": "3.7.6"
  }
 },
 "nbformat": 4,
 "nbformat_minor": 2
}
