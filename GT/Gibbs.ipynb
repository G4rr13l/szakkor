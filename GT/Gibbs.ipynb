{
 "cells": [
  {
   "cell_type": "markdown",
   "metadata": {
    "colab_type": "text",
    "id": "09FQvFrP4kKm"
   },
   "source": [
    "# Gibbs-mintavétel hierarchikus bayesi modellekben"
   ]
  },
  {
   "cell_type": "markdown",
   "metadata": {
    "colab_type": "text",
    "id": "DkpdCNWr4mbY"
   },
   "source": [
    "## Valószínűségi modell\n",
    "Példaként vegyük a lineáris regressziót egydimenziós változókra, azaz $x_i,y_i \\in \\mathbb{R}$. Erre korábban megvizsgáltuk az ML, MAP és teljes bayesi következtetéseket. A problémát így formalizáltuk:\n",
    "\n",
    "\\begin{align}\n",
    "y_i &= w \\cdot x_i + b + \\varepsilon, \\\\\n",
    "\\varepsilon &\\sim \\mathcal{N}\\left(\\varepsilon \\mid 0,\\tau^{-1}\\right).\n",
    "\\end{align}\n",
    "\n",
    "Most annyival tovább megyünk, hogy $\\tau$-ra is priort teszünk. Könnyen látható, hogy a normál eloszlás precizitásán a konjugált prior a Gamma-eloszlás (ez hamarosan világossá válik), így $\\tau$ priorját ennek megfelelően választjuk. A teljes valószínűségi modell tehát:\n",
    "\n",
    "\\begin{align}\n",
    "p\\left( y_i \\mid x_i, w, b, \\tau \\right) &= \\mathcal{N}\\left( y_i \\mid w \\cdot x_i + b, \\tau^{-1}\\right),\\\\\n",
    "p\\left(\\tau \\mid \\alpha, \\beta \\right) &= \\mathcal{G}a\\left(\\tau \\mid \\alpha, \\beta \\right),\\\\\n",
    "p\\left(w \\mid \\lambda_w \\right) &= \\mathcal{N}\\left( w \\mid 0,\\lambda_w^{-1}\\right), \\\\\n",
    "p\\left(b \\mid \\lambda_b \\right) &= \\mathcal{N}\\left( b \\mid 0,\\lambda_b^{-1}\\right).\n",
    "\\end{align}\n",
    "\n",
    "A Gibbs-mintavételhez szükségünk lesz a változók feltételes eloszlásaira, a következő szakaszban ezeket számolgatjuk ki."
   ]
  },
  {
   "cell_type": "markdown",
   "metadata": {
    "colab_type": "text",
    "id": "Szcpgu2q4mv-"
   },
   "source": [
    "## Az együttes eloszlás\n",
    "\n",
    "Az egyes eloszlásokat részletesen kiírva:\n",
    "\n",
    "\\begin{align}\n",
    "p\\left( y_i \\mid x_i, w, b, \\tau \\right) &= \\sqrt{\\frac{\\tau}{2\\pi}} \\exp\\left\\lbrace -\\frac{\\tau}{2} \\left(y_i - w\\cdot x_i - b \\right)^2\\right\\rbrace,\\\\\n",
    "p\\left(\\tau \\mid \\alpha, \\beta \\right) &= \\frac{\\beta^\\alpha}{\\Gamma(\\alpha)} \\tau^{\\alpha-1} \\exp \\left\\lbrace -\\beta \\tau \\right\\rbrace, \\\\\n",
    "p\\left(w \\mid \\lambda_w \\right) &= \\sqrt{\\frac{\\lambda_w}{2\\pi}} \\exp\\left\\lbrace -\\frac{\\lambda_w}{2} w^2 \\right\\rbrace, \\\\\n",
    "p\\left(b \\mid \\lambda_b \\right) &= \\sqrt{\\frac{\\lambda_b}{2\\pi}} \\exp\\left\\lbrace -\\frac{\\lambda_b}{2} b^2 \\right\\rbrace.\n",
    "\\end{align}\n",
    "\n",
    "Most írjuk fel az együttes eloszlást, ami a teljes valószínűség tétele miatt:\n",
    "\n",
    "\\begin{align}\n",
    "p\\left(Y,X,w,b,\\tau \\mid \\alpha,\\beta,\\lambda_w,\\lambda_b \\right) &= \\prod_i p\\left( y_i \\mid x_i, w, b, \\tau \\right) \\cdot p\\left(\\tau \\mid \\alpha, \\beta \\right) \\cdot p\\left(w \\mid \\lambda_w \\right) \\cdot p\\left(b \\mid \\lambda_b \\right) .\n",
    "\\end{align}\n",
    "\n",
    "Szokásos módon ismét inkább a logaritmussal fogunk számolni:\n",
    "\n",
    "\\begin{align}\n",
    "\\ln p\\left(Y,X,w,b,\\tau \\mid \\alpha,\\beta,\\lambda_w,\\lambda_b\\right) &= \\left(\\alpha-1+\\frac{N}{2} \\right) \\ln \\tau - \\beta \\tau - \\frac{\\tau}{2} \\sum_i \\left(y_i - w \\cdot x_i - b \\right)^2 -\\frac{\\lambda_w}{2} w^2 -\\frac{\\lambda_b}{2} b^2 + const.\n",
    "\\end{align}"
   ]
  },
  {
   "cell_type": "markdown",
   "metadata": {
    "colab_type": "text",
    "id": "MIqyAYPK4mxt"
   },
   "source": [
    "## Feltételes eloszlás $\\tau$-ra\n",
    "\n",
    "Számoljuk ki elsőként $\\tau$ feltételes eloszlását a többi változó ismeretében. Ehhez a fenti kifejezésből izoláljuk és csoportosítjuk a $\\tau$-t tartalmazó tagokat, majd exponenciálist veszünk (az iménti logaritmust invertáljuk):\n",
    "\\begin{align}\n",
    "p\\left(\\tau \\mid Y,X,w,b,\\alpha,\\beta \\right) &\\propto \\tau^{\\alpha+\\frac{N}{2}-1} \\exp \\left\\lbrace - \\left(\\beta + \\frac{1}{2} \\sum_i \\left(y_i - w \\cdot x_i - b \\right)^2 \\right) \\tau\\right\\rbrace .\n",
    "\\end{align}\n",
    "\n",
    "Amit kaptunk, az egy konstans szorzótényezőtől eltekintve ismét egy Gamma-eloszlás! Valójában szándékosan így választottuk $\\tau$ priorját (konjugált prior). Viszont tudjuk, hogy egy $\\tau$ feletti eloszlást KELL kapnunk, tehát a normalizációs tag megegyezik a Gamma-eloszlás megfelelő tagjával. Összefoglalva, $\\tau$-t a következő egyenletek alapján frissítjük:\n",
    "\n",
    "\\begin{align}\n",
    "p\\left(\\tau \\mid Y,X,w,b,\\alpha,\\beta \\right)&= \\mathcal{G}a \\left( \\tau \\mid \\alpha', \\beta' \\right), \\\\\n",
    "\\alpha' &= \\alpha + \\frac{N}{2}, \\\\\n",
    "\\beta' &= \\beta +  \\frac{1}{2} \\sum_i \\left(y_i - w \\cdot x_i - b \\right)^2 .\n",
    "\\end{align}"
   ]
  },
  {
   "cell_type": "markdown",
   "metadata": {
    "colab_type": "text",
    "id": "3N71dl6D4m2Y"
   },
   "source": [
    "## Feltételes eloszlás $w$-re\n",
    "\n",
    "Az együttes eloszlásból kigyűjtjük a $w$-t tartalmazó tagokat:\n",
    "\n",
    "\\begin{align}\n",
    "-\\frac{\\tau}{2} \\sum_i \\left(y_i - w \\cdot x_i - b \\right)^2 -\\frac{\\lambda_w}{2} w^2 .\n",
    "\\end{align}\n",
    "\n",
    "Majd kiemeljük $w$ hatványait:\n",
    "\n",
    "\\begin{align}\n",
    "-\\frac{1}{2} \\left( \\lambda_w + \\tau \\sum_i x_i^2 \\right)w^2 + \\left(\\tau \\sum_i (y_i-b)x_i \\right)w + const.\n",
    "\\end{align}\n",
    "\n",
    "A kapott kifejezést kiegészítjük teljes négyzetté (a konstans tagokkal nem törődve):\n",
    "\n",
    "\\begin{align}\n",
    "-\\frac{1}{2} A w^2 + Bw + const. = -\\frac{A}{2} \\left(w-\\frac{B}{A}\\right)^2 + const.\n",
    "\\end{align}\n",
    "\n",
    "Ismét észrevesszük, hogy ez egy normalizációs konstanstól eltekintve egy normál eloszlás. De mivel eloszlást kellett kapnunk, a normalizációs konstans ismert, és\n",
    "\n",
    "\\begin{align}\n",
    "p\\left(w \\mid Y,X,b,\\tau,\\alpha,\\beta \\right) &= \\mathcal{N}\\left( w \\mid \\mu_w',\\lambda_w'^{-1}\\right), \\\\\n",
    "\\lambda_w' &= \\lambda_w + \\tau \\sum_i x_i^2, \\\\\n",
    "\\mu_w' &= \\frac{\\tau}{\\lambda'_w} \\sum_i (y_i-b)x_i .\n",
    "\\end{align}"
   ]
  },
  {
   "cell_type": "markdown",
   "metadata": {
    "colab_type": "text",
    "id": "DC37Fc8J4m4I"
   },
   "source": [
    "## Feltételes eloszlás $b$-re\n",
    "\n",
    "Az előzőhöz nagyon hasonlóan járunk el. Izoláljuk a $b$-s tagokat:\n",
    "\n",
    "\\begin{align}\n",
    "-\\frac{\\tau}{2} \\sum_i \\left(y_i - w \\cdot x_i - b \\right)^2 -\\frac{\\lambda_b}{2} b^2\n",
    "\\end{align}\n",
    "\n",
    "Majd kiemeljük $b$ hatványait:\n",
    "\n",
    "\\begin{align}\n",
    "-\\frac{1}{2} \\left(\\tau N + \\lambda_b \\right) b^2 + \\left(\\tau \\sum_i y_i-w\\cdot x_i \\right) b + const.\n",
    "\\end{align}\n",
    "\n",
    "Teljes négyzetté alakítás után\n",
    "\n",
    "\\begin{align}\n",
    "p\\left(b \\mid Y,X,b,\\tau,\\alpha,\\beta \\right) &= \\mathcal{N}\\left( w \\mid \\mu_b',\\lambda_b'^{-1}\\right), \\\\\n",
    "\\lambda_b' &= \\lambda_b + \\tau N, \\\\\n",
    "\\mu_b' &= \\frac{\\tau}{\\lambda'_b} \\sum_i y_i-w\\cdot x_i .\n",
    "\\end{align}"
   ]
  },
  {
   "cell_type": "markdown",
   "metadata": {
    "colab_type": "text",
    "id": "KBwo_YKx4nCj"
   },
   "source": [
    "## Gibbs-mintavétel\n",
    "\n",
    "A feltételes eloszlások ismeretében könnyedén implementálhatjuk a Gibbs-mintavételt:\n",
    "\n",
    "1. Véletlenszerűen inicializáljuk $\\tau$-t, $w$-t és $b$-t.\n",
    "2. Kiszámítjuk $\\tau$ feltételes eloszlását, egy mintával frissítjük $\\tau$-t.\n",
    "3. Kiszámítjuk $w$ feltételes eloszlását, egy mintával frissítjük $w$-t.\n",
    "4. Kiszámítjuk $b$ feltételes eloszlását, egy mintával frissítjük $b$-t.\n",
    "5. Ismétlés 2)-től.\n",
    "\n",
    "Mindeközben folyamatosan gyűjtjük a mintákat, tehát a régi értékeket a frissítésnél nem írjuk felül. A paraméterek eloszlását a gyűjtött minták eloszlásával közelítjük (a gyakorlatban először egy ún. burn-in fázist csinálunk, hogy a Markov-lánc a keresett eloszlás \"közelébe\" kerüljön, ekkor még nem gyűjtjük a mintákat)."
   ]
  },
  {
   "cell_type": "markdown",
   "metadata": {
    "colab_type": "text",
    "id": "LTTDKTCr45th"
   },
   "source": [
    "## Konvergencia-diagnosztika\n",
    "\n",
    "A Geweke-diagnosztika azt vizsgálja, hogy van-e szignifikáns különbség a Markov-lánc kezdeti és végső szegmensében vett mintaátlagok között; ha nincs ilyen, az erős érv amellett, hogy a lánc valóban konvergált. Adott $\\theta$ paraméter esetén a Markov-láncot szegmensekre osztjuk (pl. legyen a gyűjtött minták első fele az egyik szegmens, a második fele a másik szegmens), és az így kapott mintahalmazokkal $Z$-tesztet végzünk:\n",
    "\n",
    "\\begin{align}\n",
    "Z = \\frac{\\bar\\theta_1 - \\bar\\theta_2}{\\sqrt{\\frac{s_1^2}{m} + \\frac{s_2^2}{m}}},\n",
    "\\end{align}\n",
    "\n",
    "ahol $\\bar\\theta$ az átlag, $s^2$ a variancia, $m$ és $n$ pedig a szegmensek hossza. A $Z$-érték elméletben normál eloszlást követ; szignifikáns különbségről beszélünk akkor, ha a $Z$-érték a $2\\times$-es szóráson ($\\pm 2.58$) kívülre esik. A konvergenciát vizsgálhatjuk Geweke--Brooks ploton, ahol különböző kezdeti szegmenseken vett átlagokat hasonlítunk össze a lánc második felével; a kezdeti szegmensek úgy alakulnak, hogy a lánc első felét \"szalámizzuk\" tovább (pl. 10%-okat hagyunk el az elejéről). Az így kapott Z-értékeket kiplottoljuk. Példa: https://pymc-devs.github.io/pymc/modelchecking.html"
   ]
  },
  {
   "cell_type": "code",
   "execution_count": 1,
   "metadata": {
    "colab": {
     "base_uri": "https://localhost:8080/",
     "height": 34
    },
    "colab_type": "code",
    "id": "XVhn4Whb4lWB",
    "outputId": "e2df886b-0495-480f-e7c6-e557a3fde9b1"
   },
   "outputs": [
    {
     "name": "stdout",
     "output_type": "stream",
     "text": [
      "Populating the interactive namespace from numpy and matplotlib\n"
     ]
    }
   ],
   "source": [
    "%pylab inline"
   ]
  },
  {
   "cell_type": "code",
   "execution_count": 2,
   "metadata": {
    "colab": {
     "base_uri": "https://localhost:8080/",
     "height": 265
    },
    "colab_type": "code",
    "id": "QQfbTsSj4-2d",
    "outputId": "c3296fcc-69f2-4e03-9818-3ad3c47db5d9"
   },
   "outputs": [
    {
     "data": {
      "image/png": "[encoded data removed]",
      "text/plain": [
       "<Figure size 432x288 with 1 Axes>"
      ]
     },
     "metadata": {
      "needs_background": "light"
     },
     "output_type": "display_data"
    }
   ],
   "source": [
    "N = 100\n",
    "tau_,w_,b_ = 1,2,-1\n",
    "\n",
    "x_ = np.linspace(0,4,N)\n",
    "y_ = np.random.normal(w_*x_+b_, 1/np.sqrt(tau_))\n",
    "\n",
    "scatter(x_,y_);"
   ]
  },
  {
   "cell_type": "markdown",
   "metadata": {
    "colab_type": "text",
    "id": "V1Wv3kDI5DPm"
   },
   "source": [
    "**1. feladat.** Definiálja a feltételes eloszlásból mintavételező függvényeket $\\tau$-ra, $w$-re és $b$-re (azaz függvények egy-egy valós számot adnak vissza)."
   ]
  },
  {
   "cell_type": "code",
   "execution_count": 3,
   "metadata": {
    "colab": {},
    "colab_type": "code",
    "id": "uh6l5-xR5Atd"
   },
   "outputs": [],
   "source": [
    "def sample_tau(y, x, w, b, alpha, beta):\n",
    "    alpha_new = alpha + len(y)/2.0\n",
    "    beta_new = beta + np.sum((y-(w*x+b))**2)/2.0\n",
    "    return np.random.gamma(alpha_new, 1.0/beta_new)\n",
    "\n",
    "def sample_w(y, x, b, tau, lambda_w):\n",
    "    prec = lambda_w + tau*np.sum(x*x)\n",
    "    mean = tau*np.sum((y-b)*x)\n",
    "    return np.random.normal(mean/prec, 1.0/np.sqrt(prec))\n",
    "\n",
    "def sample_b(y, x, w, tau, lambda_b):\n",
    "    prec = lambda_b + tau*len(y)\n",
    "    mean = tau*np.sum(y-w*x)\n",
    "    return np.random.normal(mean/prec, 1.0/np.sqrt(prec))"
   ]
  },
  {
   "cell_type": "markdown",
   "metadata": {
    "colab_type": "text",
    "id": "YNGWUY8Y5I7h"
   },
   "source": [
    "**2. feladat.** Definiálja a Gibbs-mintavételt megvalósító függvényt. A függvény adja vissza a mintákat, azaz egy $3 \\times I$ mátrixot, ahol $I$ az iterációk száma, a sorok pedig $\\tau$, $w$ és $b$ összegyűjött értékeit tartalmazzák."
   ]
  },
  {
   "cell_type": "code",
   "execution_count": 4,
   "metadata": {
    "colab": {},
    "colab_type": "code",
    "id": "U4F-NXoV5HiB"
   },
   "outputs": [],
   "source": [
    "def gibbs(y, x, iters, burn_in):\n",
    "    w0,b0,tau0 = 0,0,1\n",
    "    w,b,tau    = w0,b0,tau0\n",
    "    \n",
    "    smp = np.zeros((iters,3))\n",
    "    \n",
    "    for it in range(burn_in):\n",
    "        w   = sample_w(y, x, b, tau, 1.0)\n",
    "        b   = sample_b(y, x, w, tau, 1.0)\n",
    "        tau = sample_tau(y, x, w, b, 2.0, 1.0)\n",
    "    \n",
    "    for it in range(iters):\n",
    "        w   = sample_w(y, x, b, tau, 1.0)\n",
    "        b   = sample_b(y, x, w, tau, 1.0)\n",
    "        tau = sample_tau(y, x, w, b, 2.0, 1.0)\n",
    "        \n",
    "        smp[it] = [tau,w,b]\n",
    "        \n",
    "    return smp.T"
   ]
  },
  {
   "cell_type": "markdown",
   "metadata": {
    "colab_type": "text",
    "id": "osdSL6sx5PbC"
   },
   "source": [
    "**3. feladat.** Végezze el a következtetést, ábrázolja hisztogramon a mintákat. Milyen jól közelíti a gyűjtött minták átlaga a paraméterek valódi értékét?"
   ]
  },
  {
   "cell_type": "code",
   "execution_count": 5,
   "metadata": {
    "colab": {
     "base_uri": "https://localhost:8080/",
     "height": 282
    },
    "colab_type": "code",
    "id": "CJM8hL4R5Mna",
    "outputId": "780c66be-3125-454c-ea8d-409656e69627"
   },
   "outputs": [
    {
     "name": "stdout",
     "output_type": "stream",
     "text": [
      "1.166312603734241 1.9430698570938285 -0.7153747042274121\n"
     ]
    },
    {
     "data": {
      "image/png": "[encoded data removed]",
      "text/plain": [
       "<Figure size 432x288 with 1 Axes>"
      ]
     },
     "metadata": {
      "needs_background": "light"
     },
     "output_type": "display_data"
    }
   ],
   "source": [
    "iters   = 3000\n",
    "burn_in = 5000\n",
    "smp     = gibbs(y_,x_,iters,burn_in)\n",
    "\n",
    "bins = np.linspace(-3,3,100)\n",
    "for i in range(3):\n",
    "    hist(smp[i],bins=bins);\n",
    "\n",
    "tau,w,b = np.mean(smp,axis=1)\n",
    "print(tau,w,b)"
   ]
  },
  {
   "cell_type": "markdown",
   "metadata": {
    "colab_type": "text",
    "id": "FPhZ9h1a5WXQ"
   },
   "source": [
    "**4. feladat.** Ábrázolja a tanult egyenest (szórással együtt), felhasználva a gyűjtött minták átlagát."
   ]
  },
  {
   "cell_type": "code",
   "execution_count": 6,
   "metadata": {
    "colab": {
     "base_uri": "https://localhost:8080/",
     "height": 265
    },
    "colab_type": "code",
    "id": "F_niVUDM5R46",
    "outputId": "eb357ae7-afaf-4dff-be47-aac0a96cd645"
   },
   "outputs": [
    {
     "data": {
      "image/png": "[encoded data removed]",
      "text/plain": [
       "<Figure size 432x288 with 1 Axes>"
      ]
     },
     "metadata": {
      "needs_background": "light"
     },
     "output_type": "display_data"
    }
   ],
   "source": [
    "m = w*x_+b\n",
    "s = 2/sqrt(tau)\n",
    "\n",
    "scatter(x_,y_)\n",
    "fill_between(x_,m-s,m+s,alpha=.5)\n",
    "plot(x_,m,'r');"
   ]
  },
  {
   "cell_type": "markdown",
   "metadata": {
    "colab_type": "text",
    "id": "zmpwyAd45f1P"
   },
   "source": [
    "**5. feladat.** Trace plot-nak nevezzük a gyűjtött minták ábrázolását az idő függvényében. Ez információt nyújt arról, hogy a Markov-lánc mennyire hatékonyan járja be a paraméterteret (mixing). Ábrázolja a trace plotot mindhárom változóra, vizsgálja meg a mixinget."
   ]
  },
  {
   "cell_type": "code",
   "execution_count": 7,
   "metadata": {
    "colab": {
     "base_uri": "https://localhost:8080/",
     "height": 320
    },
    "colab_type": "code",
    "id": "kyvlVeaG5Ybq",
    "outputId": "c7a6a8dc-8909-4cee-f3be-d13a9d87bebb"
   },
   "outputs": [
    {
     "data": {
      "image/png": "[encoded data removed]",
      "text/plain": [
       "<Figure size 1080x360 with 3 Axes>"
      ]
     },
     "metadata": {
      "needs_background": "light"
     },
     "output_type": "display_data"
    }
   ],
   "source": [
    "f,ax = subplots(1,3)\n",
    "f.set_size_inches(15,5)\n",
    "for i in range(3):\n",
    "    ax[i].plot(smp[i])"
   ]
  },
  {
   "cell_type": "markdown",
   "metadata": {
    "colab_type": "text",
    "id": "1E1aGiD55oP4"
   },
   "source": [
    "**6. feladat (szorgalmi).** Vizsgálja meg a konvergenciát. Ehhez implementálja a Geweke--Brooks plotot, majd ábrázolja mindhárom változóra."
   ]
  },
  {
   "cell_type": "code",
   "execution_count": null,
   "metadata": {
    "colab": {},
    "colab_type": "code",
    "id": "FIaaMqA75qe7"
   },
   "outputs": [],
   "source": []
  }
 ],
 "metadata": {
  "colab": {
   "collapsed_sections": [],
   "name": "Lab6-solved.ipynb",
   "provenance": []
  },
  "kernelspec": {
   "display_name": "Python 3",
   "language": "python",
   "name": "python3"
  },
  "language_info": {
   "codemirror_mode": {
    "name": "ipython",
    "version": 3
   },
   "file_extension": ".py",
   "mimetype": "text/x-python",
   "name": "python",
   "nbconvert_exporter": "python",
   "pygments_lexer": "ipython3",
   "version": "3.7.6"
  }
 },
 "nbformat": 4,
 "nbformat_minor": 2
}
