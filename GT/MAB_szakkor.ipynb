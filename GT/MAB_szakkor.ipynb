{
 "cells": [
  {
   "cell_type": "markdown",
   "metadata": {
    "colab_type": "text",
    "id": "RsKlJD9CXBGU"
   },
   "source": [
    "## K-karú rablók\n",
    "\n",
    "A félkarú rabló mintájára legyen adott egy $K$-karú játékgép, ahol, ha szerencsénk van, egy kart meghúzva jutalomban (*reward*) részesülhetünk. A karok egymástól függetlenül, számunkra ismeretlen valószínűséggel adnak jutalmat (az egyszerűség kedvéért $0$-t vagy $1$-et). A célunk, hogy a karok egymás után történő húzogatásával\n",
    "- Felfedezzük a problémateret, azaz megbecsüljük az egyes karok \"jóságát\" (*exploration*),\n",
    "- Ezt a tudást kihasználva maximalizáljuk az összes jutalmunkat (*exploitation*).\n",
    "\n",
    "Érezzük, hogy a két cél egymásnak ellentmond: a felfedezéshez rossz karokat is meg kell húznunk, ezzel azonban az összes jutalmunkat csökkentjük. A karok valószínűségi természete miatt az is előfordulhat, hogy pechünk van, és egy jó kar éppen rossz jutalmat ad, így érdemes lehet a pillanatnyilag rossznak gondolt karokat is többször tesztelni. Ez az *exploration vs. exploitation* dilemma.\n",
    "\n",
    "Bár az általunk vizsgált stratégiák többféle eloszlás esetében is működnek, mi a már jól ismert Bernoulli-eloszlást fogjuk használni. Azaz minden karhoz tartozik egy ismeretlen $\\theta_k$ paraméter, ami azt mondja meg, hogy mekkora valószínűséggel kapunk $1$ jutalmat, egy húzás pedig egy Bernoulli-kísérletnek felel meg (egészen úgy, mintha fej vagy írást játszanánk különbözőképpen cinkelt érmékkel):\n",
    "\n",
    "\\begin{align}\n",
    "p\\left(x \\mid \\theta_k \\right) = \\mathcal{B}ern \\left(x \\mid \\theta_k \\right) = \\theta_k^{x} (1-\\theta_k)^{1-x},\n",
    "\\end{align}\n",
    "\n",
    "ahol $x \\in \\left\\lbrace 0,1 \\right\\rbrace$ a $k$. kar meghúzása után kapott jutalom.\n",
    "\n",
    "## Thompson-mintavétel\n",
    "\n",
    "Minden karra felteszünk egy Beta prior eloszlást, ami a karral kapcsolatos előzetes hiedelmeinket képviseli. Az adott körben meghúzandó kart úgy választjuk ki, hogy mintát veszünk mindegyik eloszlásból, és azt a kart húzzuk meg, amelyikre ez a minta a maximális. Ezután a kapott jutalom ismeretében a hiedelmünk \"frissítése\" a szokásos módon, a Bayes-tétellel történik, azaz ha\n",
    "\n",
    "\\begin{align}\n",
    "p(\\theta_k | \\alpha, \\beta) = Beta(\\theta_k | \\alpha, \\beta) \\propto \\theta_k^{\\alpha-1} (1-\\theta_k)^{\\beta-1},\n",
    "\\end{align}\n",
    "\n",
    "akkor a frissítés a Bayes-tétel szerint\n",
    "\n",
    "\\begin{align}\n",
    "p(\\theta_k | \\alpha, \\beta, x) \\propto p(x | \\theta_k) p(\\theta_k | \\alpha, \\beta) = \\theta_k^{\\alpha+x-1} (1-\\theta_k)^{\\beta+1-x-1} \\propto Beta(\\theta_k | \\alpha+x, \\beta+1-x),\n",
    "\\end{align}\n",
    "\n",
    "azaz ha $1$ jutalmat kaptunk, akkor a karhoz tartozó $\\alpha$ paramétert növeljük eggyel, ellenkező esetben a $\\beta$ paramétert."
   ]
  },
  {
   "cell_type": "markdown",
   "metadata": {
    "colab_type": "text",
    "id": "P4j-5cjHqMyw"
   },
   "source": [
    "## Feladatok\n",
    "\n",
    "**1. feladat.** Itt látsz egy prototípus ágenst, ami csak véletlenszerűen választott karokat húzogat. Valósítsd meg a Thompson-mintavételt a prototípus alapján!"
   ]
  },
  {
   "cell_type": "code",
   "execution_count": 1,
   "metadata": {
    "colab": {
     "base_uri": "https://localhost:8080/",
     "height": 34
    },
    "colab_type": "code",
    "id": "g412dwd0meAZ",
    "outputId": "a71e58ec-cc18-4c74-9ec3-c3ad296df5d7"
   },
   "outputs": [
    {
     "name": "stdout",
     "output_type": "stream",
     "text": [
      "Populating the interactive namespace from numpy and matplotlib\n"
     ]
    }
   ],
   "source": [
    "%pylab inline"
   ]
  },
  {
   "cell_type": "code",
   "execution_count": 2,
   "metadata": {
    "colab": {},
    "colab_type": "code",
    "id": "uI9z8jhzml8F"
   },
   "outputs": [],
   "source": [
    "# Prototípus ágens (példa)\n",
    "class Agent:\n",
    "  def __init__(self,K):\n",
    "    self.X = [] # eddigi jutalmak\n",
    "    self.A = [] # melyik kart húztuk\n",
    "    self.K = K  # karok száma\n",
    "\n",
    "  # Kötelező: melyik legyen a következő kar\n",
    "  def get_arm(self):\n",
    "    self.arm = np.random.choice(K)\n",
    "    return self.arm\n",
    "\n",
    "  # Kötelező: az ágens állapotának frissítése\n",
    "  def update(self,reward):\n",
    "    self.A += [self.arm]\n",
    "    self.X += [reward]"
   ]
  },
  {
   "cell_type": "markdown",
   "metadata": {
    "colab_type": "text",
    "id": "YnbDNKrcshcK"
   },
   "source": [
    "**Megoldás.** A Thompson-mintavétel megvalósítása:"
   ]
  },
  {
   "cell_type": "code",
   "execution_count": 3,
   "metadata": {
    "colab": {},
    "colab_type": "code",
    "id": "BuqNSyrFrQEG"
   },
   "outputs": [],
   "source": [
    "class Thompson(Agent):\n",
    "  def __init__(self,K):\n",
    "    Agent.__init__(self,K)\n",
    "    self.a = np.ones(K)\n",
    "    self.b = np.ones(K)\n",
    "\n",
    "  def get_arm(self):\n",
    "    self.arm = np.argmax(np.random.beta(self.a,self.b))\n",
    "    return self.arm\n",
    "\n",
    "  def update(self,reward):\n",
    "    self.a[self.arm] += reward\n",
    "    self.b[self.arm] += 1-reward\n",
    "    self.A += [self.arm]\n",
    "    self.X += [reward]"
   ]
  },
  {
   "cell_type": "markdown",
   "metadata": {
    "colab_type": "text",
    "id": "W68H3q4NqsE6"
   },
   "source": [
    "**2. feladat.** Itt láthatod a szimuláció kódját. Futtasd le a szimulációt az ágenseddel, majd ábrázold scatter plot-on, hogy melyik körben melyik kart húzta!"
   ]
  },
  {
   "cell_type": "code",
   "execution_count": 4,
   "metadata": {
    "colab": {},
    "colab_type": "code",
    "id": "GnuIvdtrn9KV"
   },
   "outputs": [],
   "source": [
    "# Valódi jutalmak\n",
    "rewards = [0.01, 0.02, 0.3, 0.4, 0.5, 0.6, 0.795, 0.8, 0.805]\n",
    "\n",
    "# Szimuláció T db húzással\n",
    "def simulate(agent,T=10000):\n",
    "  for t in range(T):\n",
    "    arm    = agent.get_arm()\n",
    "    reward = (np.random.rand()<rewards[arm])*1\n",
    "    agent.update(reward)"
   ]
  },
  {
   "cell_type": "markdown",
   "metadata": {
    "colab_type": "text",
    "id": "7T0maXDotJKu"
   },
   "source": [
    "**Megoldás.**"
   ]
  },
  {
   "cell_type": "code",
   "execution_count": 5,
   "metadata": {
    "colab": {
     "base_uri": "https://localhost:8080/",
     "height": 282
    },
    "colab_type": "code",
    "id": "hTbtqN2AzlET",
    "outputId": "d87de447-8be6-4c08-a868-9a1c1051c27d"
   },
   "outputs": [
    {
     "data": {
      "text/plain": [
       "<matplotlib.collections.PathCollection at 0x7fad4810a910>"
      ]
     },
     "execution_count": 5,
     "metadata": {},
     "output_type": "execute_result"
    },
    {
     "data": {
      "image/png": "[encoded data removed]",
      "text/plain": [
       "<Figure size 432x288 with 1 Axes>"
      ]
     },
     "metadata": {
      "needs_background": "light"
     },
     "output_type": "display_data"
    }
   ],
   "source": [
    "K = len(rewards)\n",
    "agent = Thompson(K)\n",
    "simulate(agent)\n",
    "\n",
    "scatter(range(10000),agent.A)"
   ]
  },
  {
   "cell_type": "code",
   "execution_count": null,
   "metadata": {
    "colab": {},
    "colab_type": "code",
    "id": "6FQP50eHt03z"
   },
   "outputs": [],
   "source": []
  }
 ],
 "metadata": {
  "colab": {
   "collapsed_sections": [],
   "name": "MAB-szakkor.ipynb",
   "provenance": []
  },
  "kernelspec": {
   "display_name": "Python 3",
   "language": "python",
   "name": "python3"
  },
  "language_info": {
   "codemirror_mode": {
    "name": "ipython",
    "version": 3
   },
   "file_extension": ".py",
   "mimetype": "text/x-python",
   "name": "python",
   "nbconvert_exporter": "python",
   "pygments_lexer": "ipython3",
   "version": "3.7.6"
  }
 },
 "nbformat": 4,
 "nbformat_minor": 2
}
